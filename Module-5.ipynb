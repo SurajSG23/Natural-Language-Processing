{
  "cells": [
    {
      "cell_type": "markdown",
      "metadata": {
        "id": "azVTV2oOoBRZ"
      },
      "source": [
        "## Latent Dirichlet Allocation"
      ]
    },
    {
      "cell_type": "markdown",
      "metadata": {
        "id": "6AosyvhZn5qO"
      },
      "source": [
        "**LDA (Latent Dirichlet Allocation)** is the most popular algorithm for **topic modeling**.\n",
        "\n",
        "* It assumes each **document** is made up of multiple **topics**.\n",
        "* Each **topic** is made up of a group of words that often appear together.\n",
        "* LDA figures out the hidden structure: *which topics exist* and *how much of each topic is in every document*.\n",
        "\n",
        "Example:\n",
        "\n",
        "* Doc 1: 70% Healthcare + 30% Finance\n",
        "* Doc 2: 80% Sports + 20% Healthcare\n",
        "\n",
        "So, **LDA = a way to discover hidden topics in text using word patterns**.\n"
      ]
    },
    {
      "cell_type": "code",
      "execution_count": 4,
      "metadata": {
        "id": "d_kgo1LSnWXM"
      },
      "outputs": [],
      "source": [
        "import pandas as pd\n",
        "import re\n",
        "from nltk.corpus import stopwords\n",
        "from nltk.tokenize import word_tokenize\n",
        "from nltk.stem import PorterStemmer\n",
        "import gensim\n",
        "import gensim.corpora as corpora"
      ]
    },
    {
      "cell_type": "code",
      "source": [
        "from google.colab import files\n",
        "uploaded = files.upload()"
      ],
      "metadata": {
        "colab": {
          "base_uri": "https://localhost:8080/",
          "height": 73
        },
        "id": "MTR59pHWYo1g",
        "outputId": "632bdac0-6f63-4c09-8e6b-47ec5fd8f839"
      },
      "execution_count": 5,
      "outputs": [
        {
          "output_type": "display_data",
          "data": {
            "text/plain": [
              "<IPython.core.display.HTML object>"
            ],
            "text/html": [
              "\n",
              "     <input type=\"file\" id=\"files-e630c46a-9a79-4c82-8128-f4011832f74d\" name=\"files[]\" multiple disabled\n",
              "        style=\"border:none\" />\n",
              "     <output id=\"result-e630c46a-9a79-4c82-8128-f4011832f74d\">\n",
              "      Upload widget is only available when the cell has been executed in the\n",
              "      current browser session. Please rerun this cell to enable.\n",
              "      </output>\n",
              "      <script>// Copyright 2017 Google LLC\n",
              "//\n",
              "// Licensed under the Apache License, Version 2.0 (the \"License\");\n",
              "// you may not use this file except in compliance with the License.\n",
              "// You may obtain a copy of the License at\n",
              "//\n",
              "//      http://www.apache.org/licenses/LICENSE-2.0\n",
              "//\n",
              "// Unless required by applicable law or agreed to in writing, software\n",
              "// distributed under the License is distributed on an \"AS IS\" BASIS,\n",
              "// WITHOUT WARRANTIES OR CONDITIONS OF ANY KIND, either express or implied.\n",
              "// See the License for the specific language governing permissions and\n",
              "// limitations under the License.\n",
              "\n",
              "/**\n",
              " * @fileoverview Helpers for google.colab Python module.\n",
              " */\n",
              "(function(scope) {\n",
              "function span(text, styleAttributes = {}) {\n",
              "  const element = document.createElement('span');\n",
              "  element.textContent = text;\n",
              "  for (const key of Object.keys(styleAttributes)) {\n",
              "    element.style[key] = styleAttributes[key];\n",
              "  }\n",
              "  return element;\n",
              "}\n",
              "\n",
              "// Max number of bytes which will be uploaded at a time.\n",
              "const MAX_PAYLOAD_SIZE = 100 * 1024;\n",
              "\n",
              "function _uploadFiles(inputId, outputId) {\n",
              "  const steps = uploadFilesStep(inputId, outputId);\n",
              "  const outputElement = document.getElementById(outputId);\n",
              "  // Cache steps on the outputElement to make it available for the next call\n",
              "  // to uploadFilesContinue from Python.\n",
              "  outputElement.steps = steps;\n",
              "\n",
              "  return _uploadFilesContinue(outputId);\n",
              "}\n",
              "\n",
              "// This is roughly an async generator (not supported in the browser yet),\n",
              "// where there are multiple asynchronous steps and the Python side is going\n",
              "// to poll for completion of each step.\n",
              "// This uses a Promise to block the python side on completion of each step,\n",
              "// then passes the result of the previous step as the input to the next step.\n",
              "function _uploadFilesContinue(outputId) {\n",
              "  const outputElement = document.getElementById(outputId);\n",
              "  const steps = outputElement.steps;\n",
              "\n",
              "  const next = steps.next(outputElement.lastPromiseValue);\n",
              "  return Promise.resolve(next.value.promise).then((value) => {\n",
              "    // Cache the last promise value to make it available to the next\n",
              "    // step of the generator.\n",
              "    outputElement.lastPromiseValue = value;\n",
              "    return next.value.response;\n",
              "  });\n",
              "}\n",
              "\n",
              "/**\n",
              " * Generator function which is called between each async step of the upload\n",
              " * process.\n",
              " * @param {string} inputId Element ID of the input file picker element.\n",
              " * @param {string} outputId Element ID of the output display.\n",
              " * @return {!Iterable<!Object>} Iterable of next steps.\n",
              " */\n",
              "function* uploadFilesStep(inputId, outputId) {\n",
              "  const inputElement = document.getElementById(inputId);\n",
              "  inputElement.disabled = false;\n",
              "\n",
              "  const outputElement = document.getElementById(outputId);\n",
              "  outputElement.innerHTML = '';\n",
              "\n",
              "  const pickedPromise = new Promise((resolve) => {\n",
              "    inputElement.addEventListener('change', (e) => {\n",
              "      resolve(e.target.files);\n",
              "    });\n",
              "  });\n",
              "\n",
              "  const cancel = document.createElement('button');\n",
              "  inputElement.parentElement.appendChild(cancel);\n",
              "  cancel.textContent = 'Cancel upload';\n",
              "  const cancelPromise = new Promise((resolve) => {\n",
              "    cancel.onclick = () => {\n",
              "      resolve(null);\n",
              "    };\n",
              "  });\n",
              "\n",
              "  // Wait for the user to pick the files.\n",
              "  const files = yield {\n",
              "    promise: Promise.race([pickedPromise, cancelPromise]),\n",
              "    response: {\n",
              "      action: 'starting',\n",
              "    }\n",
              "  };\n",
              "\n",
              "  cancel.remove();\n",
              "\n",
              "  // Disable the input element since further picks are not allowed.\n",
              "  inputElement.disabled = true;\n",
              "\n",
              "  if (!files) {\n",
              "    return {\n",
              "      response: {\n",
              "        action: 'complete',\n",
              "      }\n",
              "    };\n",
              "  }\n",
              "\n",
              "  for (const file of files) {\n",
              "    const li = document.createElement('li');\n",
              "    li.append(span(file.name, {fontWeight: 'bold'}));\n",
              "    li.append(span(\n",
              "        `(${file.type || 'n/a'}) - ${file.size} bytes, ` +\n",
              "        `last modified: ${\n",
              "            file.lastModifiedDate ? file.lastModifiedDate.toLocaleDateString() :\n",
              "                                    'n/a'} - `));\n",
              "    const percent = span('0% done');\n",
              "    li.appendChild(percent);\n",
              "\n",
              "    outputElement.appendChild(li);\n",
              "\n",
              "    const fileDataPromise = new Promise((resolve) => {\n",
              "      const reader = new FileReader();\n",
              "      reader.onload = (e) => {\n",
              "        resolve(e.target.result);\n",
              "      };\n",
              "      reader.readAsArrayBuffer(file);\n",
              "    });\n",
              "    // Wait for the data to be ready.\n",
              "    let fileData = yield {\n",
              "      promise: fileDataPromise,\n",
              "      response: {\n",
              "        action: 'continue',\n",
              "      }\n",
              "    };\n",
              "\n",
              "    // Use a chunked sending to avoid message size limits. See b/62115660.\n",
              "    let position = 0;\n",
              "    do {\n",
              "      const length = Math.min(fileData.byteLength - position, MAX_PAYLOAD_SIZE);\n",
              "      const chunk = new Uint8Array(fileData, position, length);\n",
              "      position += length;\n",
              "\n",
              "      const base64 = btoa(String.fromCharCode.apply(null, chunk));\n",
              "      yield {\n",
              "        response: {\n",
              "          action: 'append',\n",
              "          file: file.name,\n",
              "          data: base64,\n",
              "        },\n",
              "      };\n",
              "\n",
              "      let percentDone = fileData.byteLength === 0 ?\n",
              "          100 :\n",
              "          Math.round((position / fileData.byteLength) * 100);\n",
              "      percent.textContent = `${percentDone}% done`;\n",
              "\n",
              "    } while (position < fileData.byteLength);\n",
              "  }\n",
              "\n",
              "  // All done.\n",
              "  yield {\n",
              "    response: {\n",
              "      action: 'complete',\n",
              "    }\n",
              "  };\n",
              "}\n",
              "\n",
              "scope.google = scope.google || {};\n",
              "scope.google.colab = scope.google.colab || {};\n",
              "scope.google.colab._files = {\n",
              "  _uploadFiles,\n",
              "  _uploadFilesContinue,\n",
              "};\n",
              "})(self);\n",
              "</script> "
            ]
          },
          "metadata": {}
        },
        {
          "output_type": "stream",
          "name": "stdout",
          "text": [
            "Saving news_articles.csv to news_articles.csv\n"
          ]
        }
      ]
    },
    {
      "cell_type": "code",
      "execution_count": 6,
      "metadata": {
        "id": "_6dU8hSPpsOr",
        "colab": {
          "base_uri": "https://localhost:8080/",
          "height": 206
        },
        "outputId": "37a52faa-920a-4251-cada-3aa187f82c06"
      },
      "outputs": [
        {
          "output_type": "execute_result",
          "data": {
            "text/plain": [
              "      id                                              title  \\\n",
              "0  25626  One Weight-Loss Approach Fits All? No, Not Eve...   \n",
              "1  19551  South Carolina Stuns Baylor to Reach the Round...   \n",
              "2  25221  U.S. Presidential Race, Apple, Gene Wilder: Yo...   \n",
              "3  18026  His Predecessor Gone, Gambia’s New President F...   \n",
              "4  21063  ‘Harry Potter and the Cursed Child’ Goes From ...   \n",
              "\n",
              "                                             content  \n",
              "0  Dr. Frank Sacks, a professor of nutrition at H...  \n",
              "1  South Carolina’s win over   Duke was not only ...  \n",
              "2  (Want to get this briefing by email? Here’s th...  \n",
              "3  BANJUL, Gambia  —   A week after he was inaugu...  \n",
              "4  The biggest book of the summer isn’t a blockbu...  "
            ],
            "text/html": [
              "\n",
              "  <div id=\"df-7ad9178b-77b1-4654-b5f3-18e56d329073\" class=\"colab-df-container\">\n",
              "    <div>\n",
              "<style scoped>\n",
              "    .dataframe tbody tr th:only-of-type {\n",
              "        vertical-align: middle;\n",
              "    }\n",
              "\n",
              "    .dataframe tbody tr th {\n",
              "        vertical-align: top;\n",
              "    }\n",
              "\n",
              "    .dataframe thead th {\n",
              "        text-align: right;\n",
              "    }\n",
              "</style>\n",
              "<table border=\"1\" class=\"dataframe\">\n",
              "  <thead>\n",
              "    <tr style=\"text-align: right;\">\n",
              "      <th></th>\n",
              "      <th>id</th>\n",
              "      <th>title</th>\n",
              "      <th>content</th>\n",
              "    </tr>\n",
              "  </thead>\n",
              "  <tbody>\n",
              "    <tr>\n",
              "      <th>0</th>\n",
              "      <td>25626</td>\n",
              "      <td>One Weight-Loss Approach Fits All? No, Not Eve...</td>\n",
              "      <td>Dr. Frank Sacks, a professor of nutrition at H...</td>\n",
              "    </tr>\n",
              "    <tr>\n",
              "      <th>1</th>\n",
              "      <td>19551</td>\n",
              "      <td>South Carolina Stuns Baylor to Reach the Round...</td>\n",
              "      <td>South Carolina’s win over   Duke was not only ...</td>\n",
              "    </tr>\n",
              "    <tr>\n",
              "      <th>2</th>\n",
              "      <td>25221</td>\n",
              "      <td>U.S. Presidential Race, Apple, Gene Wilder: Yo...</td>\n",
              "      <td>(Want to get this briefing by email? Here’s th...</td>\n",
              "    </tr>\n",
              "    <tr>\n",
              "      <th>3</th>\n",
              "      <td>18026</td>\n",
              "      <td>His Predecessor Gone, Gambia’s New President F...</td>\n",
              "      <td>BANJUL, Gambia  —   A week after he was inaugu...</td>\n",
              "    </tr>\n",
              "    <tr>\n",
              "      <th>4</th>\n",
              "      <td>21063</td>\n",
              "      <td>‘Harry Potter and the Cursed Child’ Goes From ...</td>\n",
              "      <td>The biggest book of the summer isn’t a blockbu...</td>\n",
              "    </tr>\n",
              "  </tbody>\n",
              "</table>\n",
              "</div>\n",
              "    <div class=\"colab-df-buttons\">\n",
              "\n",
              "  <div class=\"colab-df-container\">\n",
              "    <button class=\"colab-df-convert\" onclick=\"convertToInteractive('df-7ad9178b-77b1-4654-b5f3-18e56d329073')\"\n",
              "            title=\"Convert this dataframe to an interactive table.\"\n",
              "            style=\"display:none;\">\n",
              "\n",
              "  <svg xmlns=\"http://www.w3.org/2000/svg\" height=\"24px\" viewBox=\"0 -960 960 960\">\n",
              "    <path d=\"M120-120v-720h720v720H120Zm60-500h600v-160H180v160Zm220 220h160v-160H400v160Zm0 220h160v-160H400v160ZM180-400h160v-160H180v160Zm440 0h160v-160H620v160ZM180-180h160v-160H180v160Zm440 0h160v-160H620v160Z\"/>\n",
              "  </svg>\n",
              "    </button>\n",
              "\n",
              "  <style>\n",
              "    .colab-df-container {\n",
              "      display:flex;\n",
              "      gap: 12px;\n",
              "    }\n",
              "\n",
              "    .colab-df-convert {\n",
              "      background-color: #E8F0FE;\n",
              "      border: none;\n",
              "      border-radius: 50%;\n",
              "      cursor: pointer;\n",
              "      display: none;\n",
              "      fill: #1967D2;\n",
              "      height: 32px;\n",
              "      padding: 0 0 0 0;\n",
              "      width: 32px;\n",
              "    }\n",
              "\n",
              "    .colab-df-convert:hover {\n",
              "      background-color: #E2EBFA;\n",
              "      box-shadow: 0px 1px 2px rgba(60, 64, 67, 0.3), 0px 1px 3px 1px rgba(60, 64, 67, 0.15);\n",
              "      fill: #174EA6;\n",
              "    }\n",
              "\n",
              "    .colab-df-buttons div {\n",
              "      margin-bottom: 4px;\n",
              "    }\n",
              "\n",
              "    [theme=dark] .colab-df-convert {\n",
              "      background-color: #3B4455;\n",
              "      fill: #D2E3FC;\n",
              "    }\n",
              "\n",
              "    [theme=dark] .colab-df-convert:hover {\n",
              "      background-color: #434B5C;\n",
              "      box-shadow: 0px 1px 3px 1px rgba(0, 0, 0, 0.15);\n",
              "      filter: drop-shadow(0px 1px 2px rgba(0, 0, 0, 0.3));\n",
              "      fill: #FFFFFF;\n",
              "    }\n",
              "  </style>\n",
              "\n",
              "    <script>\n",
              "      const buttonEl =\n",
              "        document.querySelector('#df-7ad9178b-77b1-4654-b5f3-18e56d329073 button.colab-df-convert');\n",
              "      buttonEl.style.display =\n",
              "        google.colab.kernel.accessAllowed ? 'block' : 'none';\n",
              "\n",
              "      async function convertToInteractive(key) {\n",
              "        const element = document.querySelector('#df-7ad9178b-77b1-4654-b5f3-18e56d329073');\n",
              "        const dataTable =\n",
              "          await google.colab.kernel.invokeFunction('convertToInteractive',\n",
              "                                                    [key], {});\n",
              "        if (!dataTable) return;\n",
              "\n",
              "        const docLinkHtml = 'Like what you see? Visit the ' +\n",
              "          '<a target=\"_blank\" href=https://colab.research.google.com/notebooks/data_table.ipynb>data table notebook</a>'\n",
              "          + ' to learn more about interactive tables.';\n",
              "        element.innerHTML = '';\n",
              "        dataTable['output_type'] = 'display_data';\n",
              "        await google.colab.output.renderOutput(dataTable, element);\n",
              "        const docLink = document.createElement('div');\n",
              "        docLink.innerHTML = docLinkHtml;\n",
              "        element.appendChild(docLink);\n",
              "      }\n",
              "    </script>\n",
              "  </div>\n",
              "\n",
              "\n",
              "    <div id=\"df-dbbcbd56-9098-4f71-b995-5cf102e19e1a\">\n",
              "      <button class=\"colab-df-quickchart\" onclick=\"quickchart('df-dbbcbd56-9098-4f71-b995-5cf102e19e1a')\"\n",
              "                title=\"Suggest charts\"\n",
              "                style=\"display:none;\">\n",
              "\n",
              "<svg xmlns=\"http://www.w3.org/2000/svg\" height=\"24px\"viewBox=\"0 0 24 24\"\n",
              "     width=\"24px\">\n",
              "    <g>\n",
              "        <path d=\"M19 3H5c-1.1 0-2 .9-2 2v14c0 1.1.9 2 2 2h14c1.1 0 2-.9 2-2V5c0-1.1-.9-2-2-2zM9 17H7v-7h2v7zm4 0h-2V7h2v10zm4 0h-2v-4h2v4z\"/>\n",
              "    </g>\n",
              "</svg>\n",
              "      </button>\n",
              "\n",
              "<style>\n",
              "  .colab-df-quickchart {\n",
              "      --bg-color: #E8F0FE;\n",
              "      --fill-color: #1967D2;\n",
              "      --hover-bg-color: #E2EBFA;\n",
              "      --hover-fill-color: #174EA6;\n",
              "      --disabled-fill-color: #AAA;\n",
              "      --disabled-bg-color: #DDD;\n",
              "  }\n",
              "\n",
              "  [theme=dark] .colab-df-quickchart {\n",
              "      --bg-color: #3B4455;\n",
              "      --fill-color: #D2E3FC;\n",
              "      --hover-bg-color: #434B5C;\n",
              "      --hover-fill-color: #FFFFFF;\n",
              "      --disabled-bg-color: #3B4455;\n",
              "      --disabled-fill-color: #666;\n",
              "  }\n",
              "\n",
              "  .colab-df-quickchart {\n",
              "    background-color: var(--bg-color);\n",
              "    border: none;\n",
              "    border-radius: 50%;\n",
              "    cursor: pointer;\n",
              "    display: none;\n",
              "    fill: var(--fill-color);\n",
              "    height: 32px;\n",
              "    padding: 0;\n",
              "    width: 32px;\n",
              "  }\n",
              "\n",
              "  .colab-df-quickchart:hover {\n",
              "    background-color: var(--hover-bg-color);\n",
              "    box-shadow: 0 1px 2px rgba(60, 64, 67, 0.3), 0 1px 3px 1px rgba(60, 64, 67, 0.15);\n",
              "    fill: var(--button-hover-fill-color);\n",
              "  }\n",
              "\n",
              "  .colab-df-quickchart-complete:disabled,\n",
              "  .colab-df-quickchart-complete:disabled:hover {\n",
              "    background-color: var(--disabled-bg-color);\n",
              "    fill: var(--disabled-fill-color);\n",
              "    box-shadow: none;\n",
              "  }\n",
              "\n",
              "  .colab-df-spinner {\n",
              "    border: 2px solid var(--fill-color);\n",
              "    border-color: transparent;\n",
              "    border-bottom-color: var(--fill-color);\n",
              "    animation:\n",
              "      spin 1s steps(1) infinite;\n",
              "  }\n",
              "\n",
              "  @keyframes spin {\n",
              "    0% {\n",
              "      border-color: transparent;\n",
              "      border-bottom-color: var(--fill-color);\n",
              "      border-left-color: var(--fill-color);\n",
              "    }\n",
              "    20% {\n",
              "      border-color: transparent;\n",
              "      border-left-color: var(--fill-color);\n",
              "      border-top-color: var(--fill-color);\n",
              "    }\n",
              "    30% {\n",
              "      border-color: transparent;\n",
              "      border-left-color: var(--fill-color);\n",
              "      border-top-color: var(--fill-color);\n",
              "      border-right-color: var(--fill-color);\n",
              "    }\n",
              "    40% {\n",
              "      border-color: transparent;\n",
              "      border-right-color: var(--fill-color);\n",
              "      border-top-color: var(--fill-color);\n",
              "    }\n",
              "    60% {\n",
              "      border-color: transparent;\n",
              "      border-right-color: var(--fill-color);\n",
              "    }\n",
              "    80% {\n",
              "      border-color: transparent;\n",
              "      border-right-color: var(--fill-color);\n",
              "      border-bottom-color: var(--fill-color);\n",
              "    }\n",
              "    90% {\n",
              "      border-color: transparent;\n",
              "      border-bottom-color: var(--fill-color);\n",
              "    }\n",
              "  }\n",
              "</style>\n",
              "\n",
              "      <script>\n",
              "        async function quickchart(key) {\n",
              "          const quickchartButtonEl =\n",
              "            document.querySelector('#' + key + ' button');\n",
              "          quickchartButtonEl.disabled = true;  // To prevent multiple clicks.\n",
              "          quickchartButtonEl.classList.add('colab-df-spinner');\n",
              "          try {\n",
              "            const charts = await google.colab.kernel.invokeFunction(\n",
              "                'suggestCharts', [key], {});\n",
              "          } catch (error) {\n",
              "            console.error('Error during call to suggestCharts:', error);\n",
              "          }\n",
              "          quickchartButtonEl.classList.remove('colab-df-spinner');\n",
              "          quickchartButtonEl.classList.add('colab-df-quickchart-complete');\n",
              "        }\n",
              "        (() => {\n",
              "          let quickchartButtonEl =\n",
              "            document.querySelector('#df-dbbcbd56-9098-4f71-b995-5cf102e19e1a button');\n",
              "          quickchartButtonEl.style.display =\n",
              "            google.colab.kernel.accessAllowed ? 'block' : 'none';\n",
              "        })();\n",
              "      </script>\n",
              "    </div>\n",
              "\n",
              "    </div>\n",
              "  </div>\n"
            ],
            "application/vnd.google.colaboratory.intrinsic+json": {
              "type": "dataframe",
              "variable_name": "data",
              "summary": "{\n  \"name\": \"data\",\n  \"rows\": 100,\n  \"fields\": [\n    {\n      \"column\": \"id\",\n      \"properties\": {\n        \"dtype\": \"number\",\n        \"std\": 2607,\n        \"min\": 17295,\n        \"max\": 26200,\n        \"num_unique_values\": 100,\n        \"samples\": [\n          18458,\n          20592,\n          22040\n        ],\n        \"semantic_type\": \"\",\n        \"description\": \"\"\n      }\n    },\n    {\n      \"column\": \"title\",\n      \"properties\": {\n        \"dtype\": \"string\",\n        \"num_unique_values\": 100,\n        \"samples\": [\n          \"Roommates Wanted. Trump Supporters Need Not Apply. - The New York Times\",\n          \"De Blasio\\u2019s $325 Million Ferry Push: Rides to 5 Boroughs, at Subway Price - The New York Times\",\n          \"Why\\u2019d You Do That? Printing Donald Trump\\u2019s Vulgarities - The New York Times\"\n        ],\n        \"semantic_type\": \"\",\n        \"description\": \"\"\n      }\n    },\n    {\n      \"column\": \"content\",\n      \"properties\": {\n        \"dtype\": \"string\",\n        \"num_unique_values\": 100,\n        \"samples\": [\n          \"She calls it the \\u201c  clause. \\u201d When Sahar Kian needed a new roommate for the home she shares near Georgetown University, she did what many young people here do: She took out an ad on Craigslist and then set down a few ground rules. \\u201cAlcohol, pets and meat products are not allowed in the house,\\u201d Ms. Kian wrote. \\u201cNeither are Trump supporters,\\u201d she added. Ms. Kian, 23, is not the first person to add such a clause to a quest for a roommate. A steady trickle of posts like hers have shown up, one or two at a time, on Craigslist since President Trump was inaugurated on Jan. 20. As anyone who has started out in the Washington area with few contacts and an   salary knows, finding a roommate (or three) to share a high rent is common practice. The median cost for a   apartment is around $1, 990 a month, according to Zumper, a rental aggregator. But for some, it\\u2019s becoming more important to make sure that political views align before they split the cost with a stranger. On Twitter, Reddit and Craigslist and in Facebook groups, people have been screening for Trump supporters since at least last fall. Such ads, more than a dozen of which have been posted on Craigslist since Inauguration Day, are only a tiny fraction of the thousands of posts on the site, but they nonetheless represent a small act of defiance in an area that heavily favored Hillary Clinton and where residents have remained politically active since the election. \\u201cI can\\u2019t live with someone who supports a \\u2018leader\\u2019 with those types of ideals,\\u201d Jessica, 32, a teacher who did not want her last name used because she feared harassment online, wrote in an email. She posted an ad on Craiglist for a room share shortly after the inauguration. \\u201cI feel like I\\u2019m going to a protest every single day. \\u201d In one recent ad, a couple in the area who identified themselves as \\u201c \\u201d and liberal advertised a $500 room in their home: \\u201cIf you\\u2019re racist, sexist, homophobic or a Trump supporter please don\\u2019t respond. We won\\u2019t get along. \\u201d In another, two women in their 20s were searching for a roommate to take over a   room in their Columbia Heights apartment for $550. The women detailed their love of happy hours, a \\u201cgood Netflix sesh,\\u201d pho and tacos. \\u201cWe\\u2019re open to any    \\u201d they added, \\u201cso long as you didn\\u2019t vote for Trump. In the same neighborhood, a woman posted an ad searching for someone to take over her room: \\u201cTrump supporters this is not the house for you (no, seriously),\\u201d she wrote. For her part, Ms. Kian, who works at Amideast, a nonprofit that focuses on educational opportunities for Middle Eastern and African students, is fine with taking the extra step to make sure her political filter extends to her home. Ms. Kian, who has American and Iranian citizenship and was raised Muslim, said the idea of the   clause started out as a joke. But it grew serious, she said, after the president signed an executive order that barred people from seven predominantly Muslim countries from entering the United States. \\u201cAnybody who is on board with that kind of thinking is not welcome,\\u201d she said. Whoever ends up living with her will pay $1, 300 to share the top floor of the house. (Her parents live downstairs.) People who support Mr. Trump, she said, would not be interested in living in her \\u201craging liberal\\u201d house. \\u201cFrankly, it would not work out,\\u201d Ms. Kian said in an interview. \\u201cThat person would not be comfortable here because we bash Trump nightly. \\u201d People like Ms. Kian may be closing themselves off to others, but their actions are legal, according to Sheila C. Salmon, a Washington lawyer who specializes in housing law. Political views are not protected under the Fair Housing Act, which prohibits discrimination based on such factors as race, religion, national origin and disability. \\u201cI don\\u2019t see anything illegal about it,\\u201d Ms. Salmon said. \\u201cIt\\u2019s like saying you don\\u2019t want any nonsmokers. \\u201d Washington has a set of expanded protections that include political affiliation, but Ms. Salmon said it was unclear whether a person\\u2019s support of Mr. Trump would fall into this category. \\u201cWould it truly be rejection or discrimination on political affiliation?\\u201d she said. \\u201cI think there\\u2019s a reasonable argument to be made that it\\u2019s not. \\u201d Kevin Kemp, 29, who works in advertising at Education Week, is another resident who is screening out Trump supporters. Mr. Kemp said he used to subtly gauge the politics of potential roommates by making jokes and seeing how they responded. But about a month ago, when he was searching for a roommate to share a   apartment in Silver Spring, Md. he found himself going a step further as he drafted a post on Reddit. \\u201cPlease no Imperial Sympathizers, Borg, Vogons, Lannisters (some exceptions) Sith or Trump supporters,\\u201d he wrote in a post for a roommate, invoking some of fiction\\u2019s most notorious villains. His joke, he said, reflected a deeper frustration. \\u201cAs a black man, Black Lives Matter is sort of important to me,\\u201d he said. \\u201cAnd Trump supporters aren\\u2019t known for their fondness of that movement. \\u201d On the other end of the spectrum, people who identify as conservative and support Mr. Trump are navigating difficult terrain. Cole Lyle, a Marine veteran who recently moved here to lobby for funding to provide wounded veterans with service dogs, is using Craigslist and    among his friends to find roommates. He said he was open to living with anyone, but added that the pool of potential roommates who share his political beliefs was small. \\u201cD. C. is a small town,\\u201d Mr. Lyle said. \\u201cRepublican D. C. is a smaller town, and conservative Republican D. C. is tiny. \\u201d Mr. Lyle, 27, a former intern with the conservative Heritage Foundation, is for the moment staying in the think tank\\u2019s intern residence. He said that he hoped that he and his service dog, Kaya, would eventually live in a place where he could find common ground with someone  \\u2014   \\u201cdogs are the key to bipartisanship\\u201d  \\u2014   but that he did not want to live with anyone who would reject him because of his political views. \\u201cIf somebody\\u2019s going to put that in an ad, they\\u2019re not the type of person I\\u2019d want to associate with,\\u201d he said. \\u201cIf someone said, \\u2018I will not live with a liberal,\\u2019 I would probably be equally as likely not to engage with that person. \\u201d But Ms. Kian, who has lived in Washington only since the Obama era, said she was likely to keep screening out Trump supporters. \\u201cI\\u2019m not quite sure what this city is going to look like,\\u201d Ms. Kian said. \\u201cThat\\u2019s even more reason for me to keep that   supporters clause in there. \\u201d\",\n          \"With New York City\\u2019s subway trains jammed to capacity and more people than ever pouring into neighborhoods outside Manhattan, Mayor Bill de Blasio is embarking on an ambitious and expensive plan to create a fleet of   ferryboats that would crisscross the surrounding waterways and connect all five boroughs. At a cost of more than $325 million, Mr. de Blasio\\u2019s expansion of ferry service would be one of the biggest bets any city in the world has made on boats as vehicles for mass transit. The mayor predicts that the ferries would carry 4. 5 million passengers a year, about twice as many riders as San Francisco\\u2019s ferry system handles. Mr. de Blasio has promised New Yorkers that ferries will start running on three new routes, serving South Brooklyn, and Astoria and the Rockaways in Queens, by the end of June 2017, four months before he would stand for  . Additional routes to the Lower East Side of Manhattan and to Soundview in the Bronx will be added in 2018. \\u201cOur aim is to make this thing as big as possible,\\u201d said Alicia Glen, the city\\u2019s deputy mayor for housing and economic development. \\u201cNo guts, no glory. \\u201d Simply put, city officials believe that if New York is to continue thriving, it must have a robust transportation network and that ferries can play a critical role, just as they do in many waterfront cities around the globe. \\u201cWe\\u2019re still living with the footprint of an    transit map that didn\\u2019t contemplate the kind of job growth we\\u2019re seeing along the waterfront,\\u201d Ms. Glen said. The administration, she said, is trying to create a transportation network for \\u201cthe new New York. \\u201d The city has already spent $6 million on four commuter boats in 2016 and could own more than 30 in a few years. Mr. de Blasio also plans to spend at least $85 million to create 13 additional landings for the ferries and a home port for them at the Brooklyn Navy Yard. But the mayor has raised the stakes in ways few other places have by pledging that a ferry ride would cost the same as subway fare, $2. 75. That is a departure from San Francisco Sydney, Australia and other cities where extensive   systems have long operated. They tend to charge more to ride ferries than buses or trains, and their ferry fares are based on the length of the trip. The   plan fits with the liberal agenda of Mr. de Blasio, who has championed \\u201ctransit equity\\u201d for all New Yorkers. To fulfill the mayor\\u2019s promise, the city will have to contribute a substantial operating subsidy, a commitment that several of his predecessors were unwilling to make. Mr. de Blasio\\u2019s former rival for the mayor\\u2019s job, Christine C. Quinn, applauded his embrace of ferries as a form of mass transit. \\u201cThere\\u2019s a little bit of a whimsical, historic notion of ferries they seem to be a lot more fun than other modes of transportation,\\u201d said Ms. Quinn, the former City Council speaker. \\u201cYou don\\u2019t want ferries to just be the fun, fancy transport of people with money. \\u201d Of course, New York\\u2019s waters were once clogged with ferries. In the early 1900s, when there were few bridges and no car tunnels, as many as 147 boats carried people across the Hudson and East Rivers. The only vestige of that era is the Staten Island Ferry, nine hulking boats that make regularly scheduled    crossings of New York Harbor. For routes from Brooklyn and Queens, city officials have largely relied on private companies operating their own ferries to deliver workers to Manhattan every weekday. City officials have been leaning on Hornblower Cruises and Events, the San   company they chose in March to operate the service, to order the boats it will need. Hornblower, which runs cruises to the Statue of Liberty, has settled on a design for   boats and is negotiating with a few boatyards around the country to build 18 of them, at a cost of nearly $4 million each. \\u201cOne of the challenges is to stand up a new fleet,\\u201d said Terry MacRae, Hornblower\\u2019s chief executive. \\u201cBut it\\u2019s better than bringing a bunch of widows and orphans together,\\u201d he said, alluding to the alternative of rounding up a group of used boats. Cameron Clark, who is overseeing the start of the ferry service for Hornblower, said the   boats were designed by Incat Crowther, an Australian company, to be   and spacious. The first of them are scheduled to be completed early next year, he said. \\u201cThey will have all the   stuff,\\u201d Mr. Clark said, including   and power outlets for laptop computers. Maria   the president of the city\\u2019s Economic Development Corporation, said Hornblower was chosen primarily for its experience in starting ferry services around the country, as well as on the Canadian side of Niagara Falls. The company, however, has limited experience with helping commuters get to and from work every day, though city officials said that did not weigh heavily against it. The city\\u2019s choice of Hornblower stirred some controversy, including warnings from another ferry operator, New York Water Taxi, that it would go out of business after losing its bid for the city\\u2019s contract. Billybey Ferry, a part of the New   New York Waterway, has been operating the subsidized East River Ferry service for the city since 2011. That service will be integrated into the citywide system after this year and will be operated by Hornblower at a reduced fare equal to a MetroCard swipe, city officials said. Paul Goodman, the chief executive of Billybey, said his company was \\u201cdisappointed to lose the bid. \\u201d But, he added, \\u201cWe\\u2019re still big believers in the expansion of ferry service and we hope that it\\u2019s a success. \\u201d Mr. de Blasio announced that the home port for the expanded service would be a pier in the Brooklyn Navy Yard. But that pier is so dilapidated that it may not be rebuilt before 2018, Ms. Glen said. If the   service starts next summer, as scheduled, the home port is likely to be in New Jersey at first, Ms. Glen said. The city\\u2019s ferry system, however, will not serve New Jersey. \\u201cHomeporting is a terrific benefit of the system,\\u201d Ms. Glen said, adding that it would create jobs in Brooklyn and save on fuel costs. \\u201cIf that takes another nine months, that\\u2019s not the priority. \\u201d Hornblower will need nine boats to cover the three new routes, none of which it has now. Mike Anderson, former chief executive of Washington State Ferries, which runs a large fleet of ferries in the Seattle area, said that to have that many boats built would normally take a few years. But Hornblower hopes to cut that schedule to one year by using three or more shipyards, including two on the Gulf Coast, Mr. Clark said. \\u201cThat\\u2019s a bit of a heavy lift,\\u201d said Mr. Anderson, an executive with KPFF Consulting Engineers who consulted with New York City on its plan. \\u201cEverything has to go right and they need to get started pretty soon. \\u201d City officials have made provisions for delays in the production of new boats, allowing Hornblower to charter additional boats to get the service started. The city estimates that it will cost about $70 million to have 18 ferries built. Once they are done, the city plans to buy them from Hornblower, which will operate them for six years, with a possibility of renewing the contract for an additional five years. Ms. Glen said the city was employing \\u201cgood, smart economics\\u201d in deciding to own the boats. \\u201cIf, for some reason, Hornblower doesn\\u2019t perform,\\u201d she said, the city would either find another operator or run the system itself, as it does for the Staten Island Ferry. And, she added, \\u201ceven if the service weren\\u2019t to be that successful, the city will have hard assets\\u201d that it could sell to recoup some of its investment. Before the service begins, Ms.   hopes to find one or more sponsors for it similar to the Citi Bike   program. But, she added, it would be premature to call the ferries Citi Boats.\",\n          \"Coverage of the leaked 2005 audio tape of  Donald Trump speaking in lewd language about women has produced an onslaught of reader mail, mostly because of the vile words contained in the coverage. The majority of those writing in are asking how the decision was made rather than complaining about the choice to include such words. I went to the Times political editor Carolyn Ryan to ask some of the readers\\u2019 most frequent questions. Spayd: The public editor inbox is full of readers asking why The New York Times decided to use some of the most vile language spoken by Donald Trump in the audio released Friday. The words were used both on the home page and on A1. Can you explain the thinking behind this decision? Ryan: Yes, it is not a decision we made lightly. We had a spirited discussion among top editors about it, led by (executive editor) Dean Baquet. The argument against using the words was driven by a concern that it would be jolting to readers, especially given that the story would be played so prominently on page one, and that there were other ways we could signal what Trump said without relying on the actual vulgar words. Ultimately we decided that the words themselves were newsworthy, and that omitting them or merely describing them or slyly hinting at them would not have been forthright with our readers. Spayd: Has The Times ever used such vulgar language in such a prominent position before, or in any manner? Ryan: It is very rare, but we have done it in the past. One recent example: In 2013, Andrea Elliott wrote a powerful narrative about an    homeless girl growing up in New York City, which captured how rough and desolate her life was. We quoted her mother cursing at her, which was in keeping with the rawness and roughness of the narrative. But again, it is quite rare. Spayd: In this case, the words appear both in print and online. Was it part of the discussion to consider using the words only online or is the standard the same for both?  Ryan: We proceeded with the idea that whatever we decided would be applied to the print and the online story. One reality we faced was that, regardless of what we said in the story, we were going to run the video without editing it. So it seemed to us it would be especially awkward to run the video, in full, and then omit the vulgarities in the story. Spayd: Finally, several readers asked why The Times didn\\u2019t characterize Trump\\u2019s words as bragging about sexually assaulting women rather than just groping them, at least in initial coverage. What was the thinking about that?  Ryan: This is a really important point and one that we tried to highlight  \\u2014   I think the first version of the story described Trump as \\u201cpushing himself on women,\\u201d but also included a quote from Dawn Laguens, the executive vice president of the Planned Parenthood Action Fund, saying bluntly that this was sexual assault. Since the news of the tape broke, our stories have become more explicit in calling what Mr. Trump is boasting about \\u201csexual assault. \\u201d *** Here\\u2019s my view. It should be the extraordinary case when such words are used by The Times, but this is one of those cases. Trump is the Republican nominee for the president of the United States. He alleges to have sexually assaulted women, and the words used in this tape are propelling many members of his own party to abandon him, or at least to publicly condemn him. In all their vulgarity, these words could turn the election.\"\n        ],\n        \"semantic_type\": \"\",\n        \"description\": \"\"\n      }\n    }\n  ]\n}"
            }
          },
          "metadata": {},
          "execution_count": 6
        }
      ],
      "source": [
        "data = pd.read_csv(\"news_articles.csv\")\n",
        "data.head()"
      ]
    },
    {
      "cell_type": "code",
      "execution_count": 11,
      "metadata": {
        "id": "MJFxDiwjpz8Y",
        "colab": {
          "base_uri": "https://localhost:8080/",
          "height": 241
        },
        "outputId": "2a4ea0c8-bcc6-481c-cce8-7b7a673fa9ec"
      },
      "outputs": [
        {
          "output_type": "execute_result",
          "data": {
            "text/plain": [
              "0    [dr, frank, sack, professor, nutrit, harvard, ...\n",
              "1    [south, carolina, win, duke, surpris, fan, pos...\n",
              "2    [want, get, brief, email, here, good, even, he...\n",
              "3    [banjul, gambia, week, inaugur, anoth, countri...\n",
              "4    [biggest, book, summer, isnt, blockbust, thril...\n",
              "Name: content, dtype: object"
            ],
            "text/html": [
              "<div>\n",
              "<style scoped>\n",
              "    .dataframe tbody tr th:only-of-type {\n",
              "        vertical-align: middle;\n",
              "    }\n",
              "\n",
              "    .dataframe tbody tr th {\n",
              "        vertical-align: top;\n",
              "    }\n",
              "\n",
              "    .dataframe thead th {\n",
              "        text-align: right;\n",
              "    }\n",
              "</style>\n",
              "<table border=\"1\" class=\"dataframe\">\n",
              "  <thead>\n",
              "    <tr style=\"text-align: right;\">\n",
              "      <th></th>\n",
              "      <th>content</th>\n",
              "    </tr>\n",
              "  </thead>\n",
              "  <tbody>\n",
              "    <tr>\n",
              "      <th>0</th>\n",
              "      <td>[dr, frank, sack, professor, nutrit, harvard, ...</td>\n",
              "    </tr>\n",
              "    <tr>\n",
              "      <th>1</th>\n",
              "      <td>[south, carolina, win, duke, surpris, fan, pos...</td>\n",
              "    </tr>\n",
              "    <tr>\n",
              "      <th>2</th>\n",
              "      <td>[want, get, brief, email, here, good, even, he...</td>\n",
              "    </tr>\n",
              "    <tr>\n",
              "      <th>3</th>\n",
              "      <td>[banjul, gambia, week, inaugur, anoth, countri...</td>\n",
              "    </tr>\n",
              "    <tr>\n",
              "      <th>4</th>\n",
              "      <td>[biggest, book, summer, isnt, blockbust, thril...</td>\n",
              "    </tr>\n",
              "  </tbody>\n",
              "</table>\n",
              "</div><br><label><b>dtype:</b> object</label>"
            ]
          },
          "metadata": {},
          "execution_count": 11
        }
      ],
      "source": [
        "# take just the content of the article, lowercase and remove punctuation\n",
        "articles = data['content'].str.lower().apply(lambda x: re.sub(r\"([^\\w\\s])\", \"\", x))\n",
        "\n",
        "# stop word removal\n",
        "en_stopwords = stopwords.words('english')\n",
        "articles = articles.apply(lambda x: ' '.join([word for word in x.split() if word not in (en_stopwords)]))\n",
        "\n",
        "# tokenize\n",
        "articles = articles.apply(lambda x: word_tokenize(x))\n",
        "\n",
        "# stemming (done for speed as we have a lot of text)\n",
        "ps = PorterStemmer()\n",
        "articles = articles.apply(lambda tokens: [ps.stem(token) for token in tokens])\n",
        "\n",
        "articles.head()"
      ]
    },
    {
      "cell_type": "markdown",
      "metadata": {
        "id": "SoAP9jxIuT_Z"
      },
      "source": [
        "In gensim, corpora is a module that helps you handle and manage text data before applying models like LDA.\n",
        "\n",
        "A tool for creating dictionaries and bag-of-words representations that later feed into topic modeling or other NLP algorithms."
      ]
    },
    {
      "cell_type": "code",
      "execution_count": 12,
      "metadata": {
        "id": "WJVpBCI5ro1v",
        "colab": {
          "base_uri": "https://localhost:8080/"
        },
        "outputId": "8af736d5-c547-4949-e710-153fba769973"
      },
      "outputs": [
        {
          "output_type": "stream",
          "name": "stdout",
          "text": [
            "Dictionary<8693 unique tokens: ['10', '100', '108', '15', '155']...>\n"
          ]
        }
      ],
      "source": [
        "# create dictionary of all words\n",
        "dictionary = corpora.Dictionary(articles)\n",
        "print(dictionary)"
      ]
    },
    {
      "cell_type": "code",
      "execution_count": 13,
      "metadata": {
        "id": "ubVIXrtQuVSz",
        "colab": {
          "base_uri": "https://localhost:8080/"
        },
        "outputId": "b31ee2db-9e5f-4368-ef10-42a0afa58a9b"
      },
      "outputs": [
        {
          "output_type": "stream",
          "name": "stdout",
          "text": [
            "[[(9, 2), (23, 1), (35, 1), (62, 2), (76, 2), (86, 1), (87, 1), (90, 1), (93, 1), (110, 2), (120, 1), (122, 2), (133, 1), (169, 1), (174, 1), (185, 1), (204, 1), (209, 1), (217, 1), (245, 1), (247, 1), (249, 1), (250, 1), (252, 3), (257, 1), (261, 1), (263, 2), (271, 2), (275, 1), (291, 2), (292, 4), (295, 1), (298, 1), (322, 1), (325, 1), (345, 1), (346, 1), (351, 3), (354, 1), (363, 1), (369, 2), (385, 1), (387, 1), (398, 1), (405, 5), (422, 1), (440, 3), (485, 1), (492, 1), (535, 7), (539, 1), (544, 1), (546, 2), (575, 1), (585, 1), (594, 1), (614, 1), (628, 1), (631, 2), (644, 1), (646, 1), (664, 1), (670, 1), (674, 1), (677, 2), (680, 1), (681, 3), (688, 1), (693, 1), (694, 2), (695, 1), (696, 1), (697, 1), (698, 1), (699, 1), (700, 1), (701, 1), (702, 1), (703, 1), (704, 1), (705, 1), (706, 1), (707, 1), (708, 1), (709, 1), (710, 10), (711, 5), (712, 1), (713, 1), (714, 1), (715, 1), (716, 1), (717, 1), (718, 1), (719, 1), (720, 1), (721, 7), (722, 1), (723, 1), (724, 5), (725, 2), (726, 1), (727, 1), (728, 1), (729, 1), (730, 6), (731, 1), (732, 1), (733, 1), (734, 1), (735, 1), (736, 1), (737, 1), (738, 1), (739, 3), (740, 1), (741, 1), (742, 2), (743, 1), (744, 1), (745, 1), (746, 3), (747, 1), (748, 1), (749, 1), (750, 1), (751, 1), (752, 1), (753, 1), (754, 5), (755, 1), (756, 2), (757, 1), (758, 1), (759, 2), (760, 1), (761, 1), (762, 1), (763, 1), (764, 1), (765, 1), (766, 1), (767, 2), (768, 1), (769, 1), (770, 1), (771, 1), (772, 1), (773, 1), (774, 1), (775, 1), (776, 1), (777, 1), (778, 1), (779, 1), (780, 1), (781, 1), (782, 1), (783, 1), (784, 2), (785, 1), (786, 1), (787, 1), (788, 1), (789, 2), (790, 5), (791, 2), (792, 1), (793, 1), (794, 1), (795, 1), (796, 1), (797, 3), (798, 1), (799, 1), (800, 2), (801, 1), (802, 1), (803, 1), (804, 1), (805, 1), (806, 1), (807, 1), (808, 1), (809, 1), (810, 1), (811, 1), (812, 1), (813, 1), (814, 2), (815, 4), (816, 1), (817, 1), (818, 1), (819, 1), (820, 1), (821, 1), (822, 1), (823, 1), (824, 1), (825, 1), (826, 1), (827, 1), (828, 1), (829, 1), (830, 2), (831, 1), (832, 3), (833, 4), (834, 2), (835, 1), (836, 2), (837, 1), (838, 1), (839, 1), (840, 1), (841, 1), (842, 1), (843, 1), (844, 7), (845, 1), (846, 1), (847, 2), (848, 1), (849, 1), (850, 1), (851, 1), (852, 1), (853, 1), (854, 1), (855, 1), (856, 7), (857, 2), (858, 3), (859, 1), (860, 1), (861, 1), (862, 1), (863, 1), (864, 1), (865, 1), (866, 1), (867, 1), (868, 1), (869, 1), (870, 1), (871, 1), (872, 2), (873, 1), (874, 1), (875, 1)]]\n"
          ]
        }
      ],
      "source": [
        "# vecotize using bag of words into a document term matrix\n",
        "doc_term = [dictionary.doc2bow(text) for text in articles]\n",
        "\n",
        "print(doc_term[1])"
      ]
    },
    {
      "cell_type": "markdown",
      "metadata": {
        "id": "uYDaoIIsvM4x"
      },
      "source": [
        "### LDA"
      ]
    },
    {
      "cell_type": "code",
      "execution_count": 14,
      "metadata": {
        "id": "E1ilzk7dvOgQ"
      },
      "outputs": [],
      "source": [
        "# specify number of topics\n",
        "num_topics = 2"
      ]
    },
    {
      "cell_type": "code",
      "execution_count": 15,
      "metadata": {
        "colab": {
          "base_uri": "https://localhost:8080/"
        },
        "id": "UYPFilvEvQmA",
        "outputId": "6fd2238c-aec2-496e-bcbd-a890af89e20c"
      },
      "outputs": [
        {
          "output_type": "stream",
          "name": "stderr",
          "text": [
            "WARNING:gensim.models.ldamodel:too few updates, training might not converge; consider increasing the number of passes or iterations to improve accuracy\n"
          ]
        },
        {
          "output_type": "execute_result",
          "data": {
            "text/plain": [
              "[(0,\n",
              "  '0.016*\"mr\" + 0.013*\"said\" + 0.005*\"trump\" + 0.005*\"state\" + 0.004*\"one\"'),\n",
              " (1,\n",
              "  '0.018*\"mr\" + 0.016*\"said\" + 0.006*\"trump\" + 0.005*\"would\" + 0.004*\"year\"')]"
            ]
          },
          "metadata": {},
          "execution_count": 15
        }
      ],
      "source": [
        "# create LDA model\n",
        "lda_model = gensim.models.LdaModel(corpus=doc_term,\n",
        "                                   id2word=dictionary,\n",
        "                                   num_topics=num_topics)\n",
        "\n",
        "lda_model.print_topics(num_topics=num_topics, num_words=5)"
      ]
    },
    {
      "cell_type": "markdown",
      "metadata": {
        "id": "VM3vCFduvdnh"
      },
      "source": [
        "# Latent Semantic Analysis"
      ]
    },
    {
      "cell_type": "markdown",
      "metadata": {
        "id": "P-TaNBxQXbaZ"
      },
      "source": [
        "Latent Semantic Analysis (LSA) is a way for computers to understand the meaning of words and texts, not just the exact words used.\n",
        "\n",
        "Here’s the idea:\n",
        "\n",
        "* Words that appear in similar contexts usually have similar meanings.\n",
        "\n",
        "* For example, the words \"car\" and \"automobile\" often appear near words like drive, road, engine.\n",
        "\n",
        "* Even if a text never uses the word \"car\", but talks about engine, road, drive, LSA can figure out that it’s probably related to \"car\"."
      ]
    },
    {
      "cell_type": "markdown",
      "metadata": {
        "id": "PmOC8fbyXbaZ"
      },
      "source": [
        "---\n",
        "**SVD = Singular Value Decomposition**\n",
        "It’s a math trick to break a big, messy table into cleaner, smaller pieces.\n",
        "\n",
        "### Imagine this:\n",
        "\n",
        "You have a giant **movie rating table**:\n",
        "\n",
        "* Rows = users\n",
        "* Columns = movies\n",
        "* Numbers = how much a user liked a movie\n",
        "\n",
        "The table is huge, noisy, and full of missing data.\n",
        "\n",
        "$$\n",
        "\\text{Big Matrix} = U \\times Σ \\times V^T\n",
        "$$\n",
        "\n",
        "* **U** = captures patterns about **rows** (e.g., types of users)\n",
        "* **Σ (Sigma)** = diagonal matrix with **importance weights** (which patterns matter most)\n",
        "* **Vᵀ** = captures patterns about **columns** (e.g., types of movies)\n",
        "\n",
        "---\n"
      ]
    },
    {
      "cell_type": "markdown",
      "source": [
        "# Latent Semantic Analysis"
      ],
      "metadata": {
        "id": "r_JusoQUXgx_"
      }
    },
    {
      "cell_type": "markdown",
      "source": [
        "Latent Semantic Analysis (LSA) is a way for computers to understand the meaning of words and texts, not just the exact words used.\n",
        "\n",
        "Here’s the idea:\n",
        "\n",
        "* Words that appear in similar contexts usually have similar meanings.\n",
        "\n",
        "* For example, the words \"car\" and \"automobile\" often appear near words like drive, road, engine.\n",
        "\n",
        "* Even if a text never uses the word \"car\", but talks about engine, road, drive, LSA can figure out that it’s probably related to \"car\"."
      ],
      "metadata": {
        "id": "WpMf5QyBXjIP"
      }
    },
    {
      "cell_type": "markdown",
      "source": [
        "---\n",
        "**SVD = Singular Value Decomposition**\n",
        "It’s a math trick to break a big, messy table into cleaner, smaller pieces.\n",
        "\n",
        "### Imagine this:\n",
        "\n",
        "You have a giant **movie rating table**:\n",
        "\n",
        "* Rows = users\n",
        "* Columns = movies\n",
        "* Numbers = how much a user liked a movie\n",
        "\n",
        "The table is huge, noisy, and full of missing data.\n",
        "\n",
        "$$\n",
        "\\text{Big Matrix} = U \\times Σ \\times V^T\n",
        "$$\n",
        "\n",
        "* **U** = captures patterns about **rows** (e.g., types of users)\n",
        "* **Σ (Sigma)** = diagonal matrix with **importance weights** (which patterns matter most)\n",
        "* **Vᵀ** = captures patterns about **columns** (e.g., types of movies)\n",
        "\n",
        "---\n"
      ],
      "metadata": {
        "id": "X_IVyNJjXkEP"
      }
    },
    {
      "cell_type": "code",
      "source": [
        "import gensim\n",
        "from gensim.models import LsiModel"
      ],
      "metadata": {
        "id": "Ctj2Do_3Xjiw"
      },
      "execution_count": 16,
      "outputs": []
    },
    {
      "cell_type": "code",
      "source": [
        "lsa_model = LsiModel(corpus=doc_term, id2word=dictionary, num_topics=num_topics)\n",
        "print(lsa_model.print_topics(num_topics=num_topics, num_words=5))"
      ],
      "metadata": {
        "id": "iCbXMtrcX6tT",
        "colab": {
          "base_uri": "https://localhost:8080/"
        },
        "outputId": "49b36f0a-a130-48f3-b005-6560a8549c4a"
      },
      "execution_count": 26,
      "outputs": [
        {
          "output_type": "stream",
          "name": "stdout",
          "text": [
            "[(0, '0.615*\"mr\" + 0.429*\"said\" + 0.187*\"trump\" + 0.130*\"state\" + 0.119*\"would\"'), (1, '-0.537*\"mr\" + -0.319*\"trump\" + 0.286*\"said\" + 0.242*\"saudi\" + 0.142*\"weight\"')]\n"
          ]
        }
      ]
    },
    {
      "cell_type": "markdown",
      "source": [
        "### Determine Number of Topics"
      ],
      "metadata": {
        "id": "RvlQOuChaa1D"
      }
    },
    {
      "cell_type": "code",
      "source": [
        "from gensim.models.coherencemodel import CoherenceModel\n",
        "import matplotlib.pyplot as plt"
      ],
      "metadata": {
        "id": "UWV3oFgWZKtN"
      },
      "execution_count": 21,
      "outputs": []
    },
    {
      "cell_type": "code",
      "source": [
        "# generate coherence scores to determine an optimum number of topics\n",
        "coherence_values = []\n",
        "model_list = []\n",
        "\n",
        "min_topics = 2\n",
        "max_topics = 11\n",
        "\n",
        "for num_topics_i in range(min_topics, max_topics+1):\n",
        "    model = LsiModel(doc_term, num_topics=num_topics_i, id2word = dictionary, random_seed=0)\n",
        "    model_list.append(model)\n",
        "    coherence_model = CoherenceModel(model=model, texts=articles, dictionary=dictionary, coherence='c_v')\n",
        "    coherence_values.append(coherence_model.get_coherence())"
      ],
      "metadata": {
        "id": "lUKw2hvKZlkf"
      },
      "execution_count": 27,
      "outputs": []
    },
    {
      "cell_type": "code",
      "source": [
        "plt.plot(range(min_topics, max_topics+1), coherence_values)\n",
        "plt.xlabel(\"Number of Topics\")\n",
        "plt.ylabel(\"Coherence score\")\n",
        "plt.legend((\"coherence_values\"), loc='best')\n",
        "plt.show()"
      ],
      "metadata": {
        "colab": {
          "base_uri": "https://localhost:8080/",
          "height": 449
        },
        "id": "7yMKNNqYZ8H0",
        "outputId": "6635d798-ede8-453b-e433-76704d613ed8"
      },
      "execution_count": 28,
      "outputs": [
        {
          "output_type": "display_data",
          "data": {
            "text/plain": [
              "<Figure size 640x480 with 1 Axes>"
            ],
            "image/png": "[encoded data removed]"
          },
          "metadata": {}
        }
      ]
    }
  ],
  "metadata": {
    "colab": {
      "provenance": []
    },
    "kernelspec": {
      "display_name": "Python 3 (Latest)",
      "language": "python",
      "name": "python3"
    },
    "language_info": {
      "codemirror_mode": {
        "name": "ipython",
        "version": 3
      },
      "file_extension": ".py",
      "mimetype": "text/x-python",
      "name": "python",
      "nbconvert_exporter": "python",
      "pygments_lexer": "ipython3",
      "version": "3.12.6"
    }
  },
  "nbformat": 4,
  "nbformat_minor": 0
}
