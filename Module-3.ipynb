{
 "cells": [
  {
   "cell_type": "markdown",
   "id": "090e3399-db77-4ba1-b5ea-469e86f2eb26",
   "metadata": {},
   "source": [
    "# Sentiment Analysis"
   ]
  },
  {
   "cell_type": "markdown",
   "id": "2fe025e9-bf2e-4416-8e65-b95503950cf5",
   "metadata": {},
   "source": [
    "Sentiment Analysis is a Natural Language Processing (NLP) technique that helps a computer understand human emotions or opinions expressed in text (like reviews, tweets, feedback, etc.)."
   ]
  },
  {
   "cell_type": "markdown",
   "id": "d1af11d6-f44b-4a44-a0db-15ed6c0447bb",
   "metadata": {},
   "source": [
    "#### Types:\n",
    "Positive Sentiment : Expresses happiness, satisfaction, praise, or approval.\n",
    "\n",
    "Negative Sentiment: Expresses dislike, criticism, disappointment, or anger.\n",
    "\n",
    "Neutral Sentiment: Neither positive nor negative, often factual or balanced."
   ]
  },
  {
   "cell_type": "code",
   "execution_count": null,
   "id": "19b68f53-bfc4-4b4e-bf14-f192d96f2fce",
   "metadata": {},
   "outputs": [],
   "source": []
  }
 ],
 "metadata": {
  "kernelspec": {
   "display_name": "Python 3 (Latest)",
   "language": "python",
   "name": "python3"
  },
  "language_info": {
   "codemirror_mode": {
    "name": "ipython",
    "version": 3
   },
   "file_extension": ".py",
   "mimetype": "text/x-python",
   "name": "python",
   "nbconvert_exporter": "python",
   "pygments_lexer": "ipython3",
   "version": "3.12.6"
  }
 },
 "nbformat": 4,
 "nbformat_minor": 5
}
