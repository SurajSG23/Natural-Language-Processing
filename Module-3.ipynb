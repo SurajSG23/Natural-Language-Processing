{
 "cells": [
  {
   "cell_type": "markdown",
   "id": "090e3399-db77-4ba1-b5ea-469e86f2eb26",
   "metadata": {},
   "source": [
    "# Sentiment Analysis"
   ]
  },
  {
   "cell_type": "markdown",
   "id": "2fe025e9-bf2e-4416-8e65-b95503950cf5",
   "metadata": {},
   "source": [
    "Sentiment Analysis is a Natural Language Processing (NLP) technique that helps a computer understand human emotions or opinions expressed in text (like reviews, tweets, feedback, etc.)."
   ]
  },
  {
   "cell_type": "markdown",
   "id": "d1af11d6-f44b-4a44-a0db-15ed6c0447bb",
   "metadata": {},
   "source": [
    "#### Types:\n",
    "Positive Sentiment : Expresses happiness, satisfaction, praise, or approval.\n",
    "\n",
    "Negative Sentiment: Expresses dislike, criticism, disappointment, or anger.\n",
    "\n",
    "Neutral Sentiment: Neither positive nor negative, often factual or balanced."
   ]
  },
  {
   "cell_type": "markdown",
   "id": "c2ed6295-c7bb-43aa-8aeb-1b5bab734506",
   "metadata": {},
   "source": [
    "## Rule based analysis"
   ]
  },
  {
   "cell_type": "code",
   "execution_count": 1,
   "id": "552c3622-1c1d-4c98-b79d-ab015959bbcf",
   "metadata": {},
   "outputs": [],
   "source": [
    "sentence_1 = \"i had a great time at the movie it was really funny\"\n",
    "sentence_2 = \"i had a great time at the movie but the parking was terrible\"\n",
    "sentence_3 = \"i had a great time at the movie but the parking wasn't great\"\n",
    "sentence_4 = \"i went to see a movie\""
   ]
  },
  {
   "cell_type": "markdown",
   "id": "bce27af8-1732-47c0-8733-11056d0a95f0",
   "metadata": {},
   "source": [
    "### TextBlob"
   ]
  },
  {
   "cell_type": "code",
   "execution_count": 2,
   "id": "523efc0f-12af-4be7-bd8c-bee9914b8145",
   "metadata": {
    "scrolled": true
   },
   "outputs": [],
   "source": [
    "from textblob import TextBlob"
   ]
  },
  {
   "cell_type": "code",
   "execution_count": 3,
   "id": "b242b381-e094-44b0-81dc-a62a31bc1e9e",
   "metadata": {},
   "outputs": [
    {
     "name": "stdout",
     "output_type": "stream",
     "text": [
      "i had a great time at the movie it was really funny\n",
      "Polarity:  0.525\n"
     ]
    }
   ],
   "source": [
    "print(sentence_1)\n",
    "\n",
    "sentiment_score_1 = TextBlob(sentence_1)\n",
    "\n",
    "print(\"Polarity: \", sentiment_score_1.sentiment.polarity) \n",
    "\n",
    "# polarity > 0 : positive sentiment\n",
    "# polarity < 0 : negative sentiment\n",
    "# polarity = 0 : neutral sentiment"
   ]
  },
  {
   "cell_type": "code",
   "execution_count": 4,
   "id": "d17c062a-769c-45d6-8585-aabe8614782e",
   "metadata": {},
   "outputs": [
    {
     "name": "stdout",
     "output_type": "stream",
     "text": [
      "i had a great time at the movie but the parking was terrible\n",
      "Polarity:  -0.09999999999999998\n"
     ]
    }
   ],
   "source": [
    "print(sentence_2)\n",
    "\n",
    "sentiment_score_2 = TextBlob(sentence_2)\n",
    "\n",
    "print(\"Polarity: \", sentiment_score_2.sentiment.polarity)"
   ]
  },
  {
   "cell_type": "code",
   "execution_count": 5,
   "id": "de9722d5-915f-4e88-bc83-efe1283b4f9d",
   "metadata": {},
   "outputs": [
    {
     "name": "stdout",
     "output_type": "stream",
     "text": [
      "i had a great time at the movie but the parking wasn't great\n",
      "Polarity:  0.8\n"
     ]
    }
   ],
   "source": [
    "print(sentence_3)\n",
    "\n",
    "sentiment_score_3 = TextBlob(sentence_3)\n",
    "\n",
    "print(\"Polarity: \", sentiment_score_3.sentiment.polarity)"
   ]
  },
  {
   "cell_type": "code",
   "execution_count": 6,
   "id": "485478d3-e0b3-4bf5-89a9-aac5d102b47e",
   "metadata": {},
   "outputs": [
    {
     "name": "stdout",
     "output_type": "stream",
     "text": [
      "i went to see a movie\n",
      "Polarity:  0.0\n"
     ]
    }
   ],
   "source": [
    "print(sentence_4)\n",
    "\n",
    "sentiment_score_4 = TextBlob(sentence_4)\n",
    "\n",
    "print(\"Polarity: \", sentiment_score_4.sentiment.polarity)"
   ]
  },
  {
   "cell_type": "markdown",
   "id": "352c5c64-5309-416d-86de-f32eacb57724",
   "metadata": {},
   "source": [
    "### VADER"
   ]
  },
  {
   "cell_type": "code",
   "execution_count": 7,
   "id": "25900d39-265a-4276-8b06-2afec1684785",
   "metadata": {},
   "outputs": [],
   "source": [
    "from vaderSentiment.vaderSentiment import SentimentIntensityAnalyzer "
   ]
  },
  {
   "cell_type": "code",
   "execution_count": 8,
   "id": "7c51ff24-b5cd-471a-b3ac-800913346249",
   "metadata": {},
   "outputs": [],
   "source": [
    "vader_sentiment = SentimentIntensityAnalyzer()"
   ]
  },
  {
   "cell_type": "code",
   "execution_count": 9,
   "id": "f5422b56-7e1a-465d-bced-1364512a3bc2",
   "metadata": {},
   "outputs": [
    {
     "name": "stdout",
     "output_type": "stream",
     "text": [
      "i had a great time at the movie it was really funny\n",
      "Polarity:  {'neg': 0.0, 'neu': 0.578, 'pos': 0.422, 'compound': 0.807}\n"
     ]
    }
   ],
   "source": [
    "print(sentence_1)\n",
    "\n",
    "vader_sentiment_score_1 = vader_sentiment.polarity_scores(sentence_1)\n",
    "\n",
    "print(\"Polarity: \", vader_sentiment_score_1) "
   ]
  },
  {
   "cell_type": "code",
   "execution_count": 10,
   "id": "9382399f-9b96-40ce-815e-09b1dbcb4264",
   "metadata": {},
   "outputs": [
    {
     "name": "stdout",
     "output_type": "stream",
     "text": [
      "i had a great time at the movie but the parking was terrible\n",
      "Polarity:  {'neg': 0.234, 'neu': 0.621, 'pos': 0.144, 'compound': -0.3818}\n"
     ]
    }
   ],
   "source": [
    "print(sentence_2)\n",
    "\n",
    "vader_sentiment_score_2 = vader_sentiment.polarity_scores(sentence_2)\n",
    "\n",
    "print(\"Polarity: \", vader_sentiment_score_2) "
   ]
  },
  {
   "cell_type": "code",
   "execution_count": 11,
   "id": "cef17d70-33d6-4bd5-8b76-099f26061cc5",
   "metadata": {},
   "outputs": [
    {
     "name": "stdout",
     "output_type": "stream",
     "text": [
      "i had a great time at the movie but the parking wasn't great\n",
      "Polarity:  {'neg': 0.247, 'neu': 0.611, 'pos': 0.142, 'compound': -0.4387}\n"
     ]
    }
   ],
   "source": [
    "print(sentence_3)\n",
    "\n",
    "vader_sentiment_score_3 = vader_sentiment.polarity_scores(sentence_3)\n",
    "\n",
    "print(\"Polarity: \", vader_sentiment_score_3) "
   ]
  },
  {
   "cell_type": "code",
   "execution_count": 12,
   "id": "74592b69-8395-4526-bfb4-042aaf5fd347",
   "metadata": {},
   "outputs": [
    {
     "name": "stdout",
     "output_type": "stream",
     "text": [
      "i went to see a movie\n",
      "Polarity:  {'neg': 0.0, 'neu': 1.0, 'pos': 0.0, 'compound': 0.0}\n"
     ]
    }
   ],
   "source": [
    "print(sentence_4)\n",
    "\n",
    "vader_sentiment_score_4 = vader_sentiment.polarity_scores(sentence_4)\n",
    "\n",
    "print(\"Polarity: \", vader_sentiment_score_4) "
   ]
  },
  {
   "cell_type": "code",
   "execution_count": null,
   "id": "4840218d-b727-4fbf-b80b-c18102992d9e",
   "metadata": {},
   "outputs": [],
   "source": []
  }
 ],
 "metadata": {
  "kernelspec": {
   "display_name": "Python 3 (Latest)",
   "language": "python",
   "name": "python3"
  },
  "language_info": {
   "codemirror_mode": {
    "name": "ipython",
    "version": 3
   },
   "file_extension": ".py",
   "mimetype": "text/x-python",
   "name": "python",
   "nbconvert_exporter": "python",
   "pygments_lexer": "ipython3",
   "version": "3.12.6"
  }
 },
 "nbformat": 4,
 "nbformat_minor": 5
}
