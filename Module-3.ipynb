{
 "cells": [
  {
   "cell_type": "markdown",
   "id": "090e3399-db77-4ba1-b5ea-469e86f2eb26",
   "metadata": {},
   "source": [
    "# Sentiment Analysis"
   ]
  },
  {
   "cell_type": "markdown",
   "id": "2fe025e9-bf2e-4416-8e65-b95503950cf5",
   "metadata": {},
   "source": [
    "Sentiment Analysis is a Natural Language Processing (NLP) technique that helps a computer understand human emotions or opinions expressed in text (like reviews, tweets, feedback, etc.)."
   ]
  },
  {
   "cell_type": "markdown",
   "id": "d1af11d6-f44b-4a44-a0db-15ed6c0447bb",
   "metadata": {},
   "source": [
    "#### Types:\n",
    "Positive Sentiment : Expresses happiness, satisfaction, praise, or approval.\n",
    "\n",
    "Negative Sentiment: Expresses dislike, criticism, disappointment, or anger.\n",
    "\n",
    "Neutral Sentiment: Neither positive nor negative, often factual or balanced."
   ]
  },
  {
   "cell_type": "markdown",
   "id": "c2ed6295-c7bb-43aa-8aeb-1b5bab734506",
   "metadata": {
    "jp-MarkdownHeadingCollapsed": true
   },
   "source": [
    "## Rule based analysis"
   ]
  },
  {
   "cell_type": "code",
   "execution_count": 1,
   "id": "552c3622-1c1d-4c98-b79d-ab015959bbcf",
   "metadata": {},
   "outputs": [],
   "source": [
    "sentence_1 = \"i had a great time at the movie it was really funny\"\n",
    "sentence_2 = \"i had a great time at the movie but the parking was terrible\"\n",
    "sentence_3 = \"i had a great time at the movie but the parking wasn't great\"\n",
    "sentence_4 = \"i went to see a movie\""
   ]
  },
  {
   "cell_type": "markdown",
   "id": "bce27af8-1732-47c0-8733-11056d0a95f0",
   "metadata": {
    "jp-MarkdownHeadingCollapsed": true
   },
   "source": [
    "### TextBlob"
   ]
  },
  {
   "cell_type": "code",
   "execution_count": 2,
   "id": "523efc0f-12af-4be7-bd8c-bee9914b8145",
   "metadata": {
    "scrolled": true
   },
   "outputs": [],
   "source": [
    "from textblob import TextBlob"
   ]
  },
  {
   "cell_type": "code",
   "execution_count": 3,
   "id": "b242b381-e094-44b0-81dc-a62a31bc1e9e",
   "metadata": {},
   "outputs": [
    {
     "name": "stdout",
     "output_type": "stream",
     "text": [
      "i had a great time at the movie it was really funny\n",
      "Polarity:  0.525\n"
     ]
    }
   ],
   "source": [
    "print(sentence_1)\n",
    "\n",
    "sentiment_score_1 = TextBlob(sentence_1)\n",
    "\n",
    "print(\"Polarity: \", sentiment_score_1.sentiment.polarity) \n",
    "\n",
    "# polarity > 0 : positive sentiment\n",
    "# polarity < 0 : negative sentiment\n",
    "# polarity = 0 : neutral sentiment"
   ]
  },
  {
   "cell_type": "code",
   "execution_count": 4,
   "id": "d17c062a-769c-45d6-8585-aabe8614782e",
   "metadata": {},
   "outputs": [
    {
     "name": "stdout",
     "output_type": "stream",
     "text": [
      "i had a great time at the movie but the parking was terrible\n",
      "Polarity:  -0.09999999999999998\n"
     ]
    }
   ],
   "source": [
    "print(sentence_2)\n",
    "\n",
    "sentiment_score_2 = TextBlob(sentence_2)\n",
    "\n",
    "print(\"Polarity: \", sentiment_score_2.sentiment.polarity)"
   ]
  },
  {
   "cell_type": "code",
   "execution_count": 5,
   "id": "de9722d5-915f-4e88-bc83-efe1283b4f9d",
   "metadata": {},
   "outputs": [
    {
     "name": "stdout",
     "output_type": "stream",
     "text": [
      "i had a great time at the movie but the parking wasn't great\n",
      "Polarity:  0.8\n"
     ]
    }
   ],
   "source": [
    "print(sentence_3)\n",
    "\n",
    "sentiment_score_3 = TextBlob(sentence_3)\n",
    "\n",
    "print(\"Polarity: \", sentiment_score_3.sentiment.polarity)"
   ]
  },
  {
   "cell_type": "code",
   "execution_count": 6,
   "id": "485478d3-e0b3-4bf5-89a9-aac5d102b47e",
   "metadata": {},
   "outputs": [
    {
     "name": "stdout",
     "output_type": "stream",
     "text": [
      "i went to see a movie\n",
      "Polarity:  0.0\n"
     ]
    }
   ],
   "source": [
    "print(sentence_4)\n",
    "\n",
    "sentiment_score_4 = TextBlob(sentence_4)\n",
    "\n",
    "print(\"Polarity: \", sentiment_score_4.sentiment.polarity)"
   ]
  },
  {
   "cell_type": "markdown",
   "id": "352c5c64-5309-416d-86de-f32eacb57724",
   "metadata": {
    "jp-MarkdownHeadingCollapsed": true
   },
   "source": [
    "### VADER"
   ]
  },
  {
   "cell_type": "code",
   "execution_count": 7,
   "id": "25900d39-265a-4276-8b06-2afec1684785",
   "metadata": {},
   "outputs": [],
   "source": [
    "from vaderSentiment.vaderSentiment import SentimentIntensityAnalyzer "
   ]
  },
  {
   "cell_type": "code",
   "execution_count": 8,
   "id": "7c51ff24-b5cd-471a-b3ac-800913346249",
   "metadata": {},
   "outputs": [],
   "source": [
    "vader_sentiment = SentimentIntensityAnalyzer()"
   ]
  },
  {
   "cell_type": "code",
   "execution_count": 9,
   "id": "f5422b56-7e1a-465d-bced-1364512a3bc2",
   "metadata": {},
   "outputs": [
    {
     "name": "stdout",
     "output_type": "stream",
     "text": [
      "i had a great time at the movie it was really funny\n",
      "Polarity:  {'neg': 0.0, 'neu': 0.578, 'pos': 0.422, 'compound': 0.807}\n"
     ]
    }
   ],
   "source": [
    "print(sentence_1)\n",
    "\n",
    "vader_sentiment_score_1 = vader_sentiment.polarity_scores(sentence_1)\n",
    "\n",
    "print(\"Polarity: \", vader_sentiment_score_1) "
   ]
  },
  {
   "cell_type": "code",
   "execution_count": 10,
   "id": "9382399f-9b96-40ce-815e-09b1dbcb4264",
   "metadata": {},
   "outputs": [
    {
     "name": "stdout",
     "output_type": "stream",
     "text": [
      "i had a great time at the movie but the parking was terrible\n",
      "Polarity:  {'neg': 0.234, 'neu': 0.621, 'pos': 0.144, 'compound': -0.3818}\n"
     ]
    }
   ],
   "source": [
    "print(sentence_2)\n",
    "\n",
    "vader_sentiment_score_2 = vader_sentiment.polarity_scores(sentence_2)\n",
    "\n",
    "print(\"Polarity: \", vader_sentiment_score_2) "
   ]
  },
  {
   "cell_type": "code",
   "execution_count": 11,
   "id": "cef17d70-33d6-4bd5-8b76-099f26061cc5",
   "metadata": {},
   "outputs": [
    {
     "name": "stdout",
     "output_type": "stream",
     "text": [
      "i had a great time at the movie but the parking wasn't great\n",
      "Polarity:  {'neg': 0.247, 'neu': 0.611, 'pos': 0.142, 'compound': -0.4387}\n"
     ]
    }
   ],
   "source": [
    "print(sentence_3)\n",
    "\n",
    "vader_sentiment_score_3 = vader_sentiment.polarity_scores(sentence_3)\n",
    "\n",
    "print(\"Polarity: \", vader_sentiment_score_3) "
   ]
  },
  {
   "cell_type": "code",
   "execution_count": 12,
   "id": "74592b69-8395-4526-bfb4-042aaf5fd347",
   "metadata": {},
   "outputs": [
    {
     "name": "stdout",
     "output_type": "stream",
     "text": [
      "i went to see a movie\n",
      "Polarity:  {'neg': 0.0, 'neu': 1.0, 'pos': 0.0, 'compound': 0.0}\n"
     ]
    }
   ],
   "source": [
    "print(sentence_4)\n",
    "\n",
    "vader_sentiment_score_4 = vader_sentiment.polarity_scores(sentence_4)\n",
    "\n",
    "print(\"Polarity: \", vader_sentiment_score_4) "
   ]
  },
  {
   "cell_type": "markdown",
   "id": "95e98e95-ed66-45cf-8151-c441f2ab1dc0",
   "metadata": {
    "jp-MarkdownHeadingCollapsed": true
   },
   "source": [
    "## Pre-Trained transformer"
   ]
  },
  {
   "cell_type": "code",
   "execution_count": null,
   "id": "199a6b9b-4b55-4fd7-96b2-a8892772a799",
   "metadata": {},
   "outputs": [],
   "source": [
    "import transformers\n",
    "from transformers import pipeline"
   ]
  },
  {
   "cell_type": "code",
   "execution_count": null,
   "id": "56c5f101-b6c4-480a-a52f-53ca6b288e8b",
   "metadata": {},
   "outputs": [],
   "source": [
    "sentiment_pipeline = pipeline(\"sentiment-analysis\")"
   ]
  },
  {
   "cell_type": "code",
   "execution_count": null,
   "id": "309f1ff4-50a0-4632-88e0-5760db5d63ab",
   "metadata": {},
   "outputs": [],
   "source": [
    "sentence_1 = \"i had a great time at the movie it was really funny\"\n",
    "sentence_2 = \"i had a great time at the movie but the parking was terrible\"\n",
    "sentence_3 = \"i had a great time at the movie but the parking wasn't great\"\n",
    "sentence_4 = \"i went to see a movie\""
   ]
  },
  {
   "cell_type": "code",
   "execution_count": null,
   "id": "12b211f9-7a55-4368-8b3c-1f9ee33df760",
   "metadata": {},
   "outputs": [],
   "source": [
    "print(sentence_1)\n",
    "sentiment_pipeline(sentence_1)"
   ]
  },
  {
   "cell_type": "raw",
   "id": "dbf69a44-3518-46e4-b8cc-36b646d2e55c",
   "metadata": {},
   "source": [
    "Output:\n",
    "i had a great time at the movie it was really funny\n",
    "[{'label': 'POSITIVE', 'score': 0.9998176693916321}]"
   ]
  },
  {
   "cell_type": "code",
   "execution_count": null,
   "id": "a527ce0a-f1d0-46b6-9528-0917eff1891b",
   "metadata": {},
   "outputs": [],
   "source": [
    "print(sentence_2)\n",
    "sentiment_pipeline(sentence_2)"
   ]
  },
  {
   "cell_type": "raw",
   "id": "970f56e3-115b-45d4-8b15-87020bec63a4",
   "metadata": {},
   "source": [
    "Output:\n",
    "i had a great time at the movie but the parking was terrible\n",
    "[{'label': 'NEGATIVE', 'score': 0.9977464079856873}]"
   ]
  },
  {
   "cell_type": "code",
   "execution_count": null,
   "id": "e360a8f4-b8d6-4411-a4cc-8bf4a83096e3",
   "metadata": {},
   "outputs": [],
   "source": [
    "print(sentence_4)\n",
    "sentiment_pipeline(sentence_4)"
   ]
  },
  {
   "cell_type": "raw",
   "id": "4274a3e9-0509-44c4-8408-ecd6432c9d40",
   "metadata": {},
   "source": [
    "Output:\n",
    "i went to see a movie\n",
    "[{'label': 'POSITIVE', 'score': 0.9802700281143188}]\n",
    "# The default model isn't giving us great results for our neutral sentence."
   ]
  },
  {
   "cell_type": "code",
   "execution_count": null,
   "id": "e269c422-954f-48bb-a8dc-df7d1a98b748",
   "metadata": {},
   "outputs": [],
   "source": [
    "specific_model = pipeline(\"sentiment-analysis\", model=\"finiteautomata/bertweet-base-sentiment-analysis\")"
   ]
  },
  {
   "cell_type": "code",
   "execution_count": null,
   "id": "b4bbdcf6-11e4-4caa-95a9-d90c0b4b84c7",
   "metadata": {},
   "outputs": [],
   "source": [
    "print(sentence_1)\n",
    "specific_model(sentence_1)"
   ]
  },
  {
   "cell_type": "raw",
   "id": "dc7c47f7-1cdd-420f-975c-501bb0430c8e",
   "metadata": {},
   "source": [
    "Output:\n",
    "i had a great time at the movie it was really funny\n",
    "[{'label': 'POS', 'score': 0.9923344254493713}]"
   ]
  },
  {
   "cell_type": "code",
   "execution_count": null,
   "id": "d52a7419-d524-4071-a825-8caa8c0b0d20",
   "metadata": {},
   "outputs": [],
   "source": [
    "print(sentence_4)\n",
    "specific_model(sentence_4)"
   ]
  },
  {
   "cell_type": "raw",
   "id": "f918cb2e-85c1-44a0-98e8-bf629c6a73bf",
   "metadata": {},
   "source": [
    "Output:\n",
    "i went to see a movie\n",
    "[{'label': 'NEU', 'score': 0.9007406234741211}]"
   ]
  },
  {
   "cell_type": "markdown",
   "id": "e0442a11-3177-4b17-85ba-2b8ab0bcd272",
   "metadata": {
    "jp-MarkdownHeadingCollapsed": true
   },
   "source": [
    "## Practical task"
   ]
  },
  {
   "cell_type": "code",
   "execution_count": 42,
   "id": "dd1382d2-7a77-4401-80af-06d9975c7168",
   "metadata": {},
   "outputs": [],
   "source": [
    "import pandas as pd\n",
    "import numpy as np\n",
    "import re\n",
    "from vaderSentiment.vaderSentiment import SentimentIntensityAnalyzer\n",
    "import transformers\n",
    "from transformers import pipeline\n",
    "from nltk.tokenize import word_tokenize\n",
    "from nltk.corpus import stopwords\n",
    "from nltk.stem import WordNetLemmatizer\n",
    "from sklearn.model_selection import train_test_split\n",
    "from sklearn import metrics\n",
    "from itertools import chain\n",
    "from nltk import NaiveBayesClassifier"
   ]
  },
  {
   "cell_type": "code",
   "execution_count": null,
   "id": "4c8e7bbf-40df-4f80-8e39-fe296cc6a83a",
   "metadata": {},
   "outputs": [
    {
     "data": {
      "text/html": [
       "<div>\n",
       "<style scoped>\n",
       "    .dataframe tbody tr th:only-of-type {\n",
       "        vertical-align: middle;\n",
       "    }\n",
       "\n",
       "    .dataframe tbody tr th {\n",
       "        vertical-align: top;\n",
       "    }\n",
       "\n",
       "    .dataframe thead th {\n",
       "        text-align: right;\n",
       "    }\n",
       "</style>\n",
       "<table border=\"1\" class=\"dataframe\">\n",
       "  <thead>\n",
       "    <tr style=\"text-align: right;\">\n",
       "      <th></th>\n",
       "      <th>index</th>\n",
       "      <th>reviewText</th>\n",
       "      <th>rating</th>\n",
       "    </tr>\n",
       "  </thead>\n",
       "  <tbody>\n",
       "    <tr>\n",
       "      <th>0</th>\n",
       "      <td>11494</td>\n",
       "      <td>Clean and funny. A bit busy with all the diffe...</td>\n",
       "      <td>3</td>\n",
       "    </tr>\n",
       "    <tr>\n",
       "      <th>1</th>\n",
       "      <td>984</td>\n",
       "      <td>Alex a sexy hot cop and the PhD candidate. Wha...</td>\n",
       "      <td>4</td>\n",
       "    </tr>\n",
       "    <tr>\n",
       "      <th>2</th>\n",
       "      <td>1463</td>\n",
       "      <td>Good thing that this is a free story. I read i...</td>\n",
       "      <td>1</td>\n",
       "    </tr>\n",
       "    <tr>\n",
       "      <th>3</th>\n",
       "      <td>10342</td>\n",
       "      <td>Action, action, action! Equipment keeps gettin...</td>\n",
       "      <td>4</td>\n",
       "    </tr>\n",
       "    <tr>\n",
       "      <th>4</th>\n",
       "      <td>5256</td>\n",
       "      <td>this was hands down the worse book i have ever...</td>\n",
       "      <td>1</td>\n",
       "    </tr>\n",
       "  </tbody>\n",
       "</table>\n",
       "</div>"
      ],
      "text/plain": [
       "   index                                         reviewText  rating\n",
       "0  11494  Clean and funny. A bit busy with all the diffe...       3\n",
       "1    984  Alex a sexy hot cop and the PhD candidate. Wha...       4\n",
       "2   1463  Good thing that this is a free story. I read i...       1\n",
       "3  10342  Action, action, action! Equipment keeps gettin...       4\n",
       "4   5256  this was hands down the worse book i have ever...       1"
      ]
     },
     "execution_count": 43,
     "metadata": {},
     "output_type": "execute_result"
    }
   ],
   "source": [
    "data = pd.read_csv(r\"D:\\AI-ML\\NLP\\CSV files\\book_reviews_sample.csv\") # the data should be in the same folder as your notebook\n",
    "data.head()"
   ]
  },
  {
   "cell_type": "code",
   "execution_count": 44,
   "id": "6fdc713a-2b95-4c1d-948a-68ae79998211",
   "metadata": {},
   "outputs": [
    {
     "name": "stdout",
     "output_type": "stream",
     "text": [
      "<class 'pandas.core.frame.DataFrame'>\n",
      "RangeIndex: 100 entries, 0 to 99\n",
      "Data columns (total 3 columns):\n",
      " #   Column      Non-Null Count  Dtype \n",
      "---  ------      --------------  ----- \n",
      " 0   index       100 non-null    int64 \n",
      " 1   reviewText  100 non-null    object\n",
      " 2   rating      100 non-null    int64 \n",
      "dtypes: int64(2), object(1)\n",
      "memory usage: 2.5+ KB\n"
     ]
    }
   ],
   "source": [
    "data.info()"
   ]
  },
  {
   "cell_type": "code",
   "execution_count": 47,
   "id": "a3949fa8-bc29-44c4-a19e-1f34bca6f9b2",
   "metadata": {},
   "outputs": [
    {
     "data": {
      "text/html": [
       "<div>\n",
       "<style scoped>\n",
       "    .dataframe tbody tr th:only-of-type {\n",
       "        vertical-align: middle;\n",
       "    }\n",
       "\n",
       "    .dataframe tbody tr th {\n",
       "        vertical-align: top;\n",
       "    }\n",
       "\n",
       "    .dataframe thead th {\n",
       "        text-align: right;\n",
       "    }\n",
       "</style>\n",
       "<table border=\"1\" class=\"dataframe\">\n",
       "  <thead>\n",
       "    <tr style=\"text-align: right;\">\n",
       "      <th></th>\n",
       "      <th>index</th>\n",
       "      <th>reviewText</th>\n",
       "      <th>rating</th>\n",
       "      <th>reviewText_clean</th>\n",
       "    </tr>\n",
       "  </thead>\n",
       "  <tbody>\n",
       "    <tr>\n",
       "      <th>0</th>\n",
       "      <td>11494</td>\n",
       "      <td>Clean and funny. A bit busy with all the diffe...</td>\n",
       "      <td>3</td>\n",
       "      <td>clean and funny a bit busy with all the differ...</td>\n",
       "    </tr>\n",
       "    <tr>\n",
       "      <th>1</th>\n",
       "      <td>984</td>\n",
       "      <td>Alex a sexy hot cop and the PhD candidate. Wha...</td>\n",
       "      <td>4</td>\n",
       "      <td>alex a sexy hot cop and the phd candidate what...</td>\n",
       "    </tr>\n",
       "    <tr>\n",
       "      <th>2</th>\n",
       "      <td>1463</td>\n",
       "      <td>Good thing that this is a free story. I read i...</td>\n",
       "      <td>1</td>\n",
       "      <td>good thing that this is a free story i read it...</td>\n",
       "    </tr>\n",
       "    <tr>\n",
       "      <th>3</th>\n",
       "      <td>10342</td>\n",
       "      <td>Action, action, action! Equipment keeps gettin...</td>\n",
       "      <td>4</td>\n",
       "      <td>action action action equipment keeps getting b...</td>\n",
       "    </tr>\n",
       "    <tr>\n",
       "      <th>4</th>\n",
       "      <td>5256</td>\n",
       "      <td>this was hands down the worse book i have ever...</td>\n",
       "      <td>1</td>\n",
       "      <td>this was hands down the worse book i have ever...</td>\n",
       "    </tr>\n",
       "  </tbody>\n",
       "</table>\n",
       "</div>"
      ],
      "text/plain": [
       "   index                                         reviewText  rating  \\\n",
       "0  11494  Clean and funny. A bit busy with all the diffe...       3   \n",
       "1    984  Alex a sexy hot cop and the PhD candidate. Wha...       4   \n",
       "2   1463  Good thing that this is a free story. I read i...       1   \n",
       "3  10342  Action, action, action! Equipment keeps gettin...       4   \n",
       "4   5256  this was hands down the worse book i have ever...       1   \n",
       "\n",
       "                                    reviewText_clean  \n",
       "0  clean and funny a bit busy with all the differ...  \n",
       "1  alex a sexy hot cop and the phd candidate what...  \n",
       "2  good thing that this is a free story i read it...  \n",
       "3  action action action equipment keeps getting b...  \n",
       "4  this was hands down the worse book i have ever...  "
      ]
     },
     "execution_count": 47,
     "metadata": {},
     "output_type": "execute_result"
    }
   ],
   "source": [
    "# lowercase\n",
    "data['reviewText_clean'] = data['reviewText'].str.lower()\n",
    "\n",
    "# remove punctuation\n",
    "data['reviewText_clean'] = data.apply(lambda x: re.sub(r\"([^\\w\\s])\", \"\", x['reviewText_clean']), axis=1)\n",
    "\n",
    "data.head()"
   ]
  },
  {
   "cell_type": "code",
   "execution_count": 52,
   "id": "7be98082-9cef-4771-955a-4e9f7bad1580",
   "metadata": {},
   "outputs": [],
   "source": [
    "# Rule-based sentiment with VADER\n",
    "\n",
    "vader_sentiment = SentimentIntensityAnalyzer()\n",
    "\n",
    "data['vader_sentiment_score'] = data['reviewText_clean'].apply(lambda review: vader_sentiment.polarity_scores(review)['compound'])"
   ]
  },
  {
   "cell_type": "code",
   "execution_count": 60,
   "id": "a83d0ad8-d0a2-4cd1-9c8e-1581dccd447e",
   "metadata": {},
   "outputs": [
    {
     "data": {
      "text/plain": [
       "<Axes: xlabel='vader_sentiment_label'>"
      ]
     },
     "execution_count": 60,
     "metadata": {},
     "output_type": "execute_result"
    },
    {
     "data": {
      "image/png": "[encoded data removed]",
      "text/plain": [
       "<Figure size 640x480 with 1 Axes>"
      ]
     },
     "metadata": {},
     "output_type": "display_data"
    }
   ],
   "source": [
    "# create labels\n",
    "bins = [-1, -0.1, 0.1, 1]\n",
    "names = ['negative', 'neutral', 'positive']\n",
    "\n",
    "data['vader_sentiment_label'] = pd.cut(data['vader_sentiment_score'], bins, labels=names)\n",
    "\n",
    "data['vader_sentiment_label'].value_counts().plot.bar()"
   ]
  },
  {
   "cell_type": "code",
   "execution_count": null,
   "id": "9fe6c500-ea67-4480-9839-8a00bc1caa2f",
   "metadata": {},
   "outputs": [],
   "source": [
    "# Pre-trained Transformer Model\n",
    "transformer_pipeline = pipeline(\"sentiment-analysis\")"
   ]
  },
  {
   "cell_type": "code",
   "execution_count": null,
   "id": "a8f490ec-f2da-478b-86a0-46664442d6d1",
   "metadata": {},
   "outputs": [],
   "source": [
    "transformer_labels = []\n",
    "\n",
    "for review in data['reviewText_clean'].values:\n",
    "    sentiment_list = transformer_pipeline(review)\n",
    "    sentiment_label = [sent['label'] for sent in sentiment_list]\n",
    "    transformer_labels.append(sentiment_label)\n",
    "    \n",
    "data['transformer_sentiment_label'] = transformer_labels\n",
    "\n",
    "data['transformer_sentiment_label'].value_counts().plot.bar()"
   ]
  }
 ],
 "metadata": {
  "kernelspec": {
   "display_name": "Python 3 (Latest)",
   "language": "python",
   "name": "python3"
  },
  "language_info": {
   "codemirror_mode": {
    "name": "ipython",
    "version": 3
   },
   "file_extension": ".py",
   "mimetype": "text/x-python",
   "name": "python",
   "nbconvert_exporter": "python",
   "pygments_lexer": "ipython3",
   "version": "3.12.6"
  }
 },
 "nbformat": 4,
 "nbformat_minor": 5
}
