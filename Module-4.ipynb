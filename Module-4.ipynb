{
 "cells": [
  {
   "cell_type": "markdown",
   "id": "7942baf6-65be-47be-a175-b9f936a1478f",
   "metadata": {},
   "source": [
    "# Numerical Representaion of text "
   ]
  },
  {
   "cell_type": "markdown",
   "id": "64802b8b-6642-42dc-9f88-7a22e50bc019",
   "metadata": {},
   "source": [
    "We convert text into numbers because machine learning models can only work with numerical data.\n",
    "This allows them to perform mathematical operations, find patterns, and learn relationships in text (using methods like BoW, TF-IDF, or embeddings)."
   ]
  },
  {
   "cell_type": "markdown",
   "id": "5f27f8d4-6e54-4f85-8048-91e93994c499",
   "metadata": {},
   "source": [
    "## Bag of Words"
   ]
  },
  {
   "cell_type": "code",
   "execution_count": 1,
   "id": "2007d0dd-e0ef-4563-ad08-8d775ad100e9",
   "metadata": {},
   "outputs": [],
   "source": [
    "import pandas as pd\n",
    "from sklearn.feature_extraction.text import CountVectorizer"
   ]
  },
  {
   "cell_type": "code",
   "execution_count": 16,
   "id": "8642b0f4-cf11-440b-8534-8af0ad982ebe",
   "metadata": {},
   "outputs": [],
   "source": [
    "data = ['Most shark attacks occur about 10 feet from the beach since that is where the people are',\n",
    "        'the efficiency with which he paired the socks in the drawer was quite admirable',\n",
    "        'carol drank the blood as if she were a vampire',\n",
    "        'giving directions that the mountains are to the west only works when you can see them',\n",
    "        'the sign said there was road work ahead so he decided to speed up',\n",
    "        'the gruff old man sat in the back of the bait shop grumbling to himself as he scooped out a handful of worms']"
   ]
  },
  {
   "cell_type": "code",
   "execution_count": 17,
   "id": "0d5a0f65-27c4-4b77-9cc6-cf9b2a6cdf21",
   "metadata": {},
   "outputs": [
    {
     "name": "stdout",
     "output_type": "stream",
     "text": [
      "['10' 'about' 'admirable' 'ahead' 'are' 'as' 'attacks' 'back' 'bait'\n",
      " 'beach' 'blood' 'can' 'carol' 'decided' 'directions' 'drank' 'drawer'\n",
      " 'efficiency' 'feet' 'from' 'giving' 'gruff' 'grumbling' 'handful' 'he'\n",
      " 'himself' 'if' 'in' 'is' 'man' 'most' 'mountains' 'occur' 'of' 'old'\n",
      " 'only' 'out' 'paired' 'people' 'quite' 'road' 'said' 'sat' 'scooped'\n",
      " 'see' 'shark' 'she' 'shop' 'sign' 'since' 'so' 'socks' 'speed' 'that'\n",
      " 'the' 'them' 'there' 'to' 'up' 'vampire' 'was' 'were' 'west' 'when'\n",
      " 'where' 'which' 'with' 'work' 'works' 'worms' 'you']\n"
     ]
    }
   ],
   "source": [
    "countvec = CountVectorizer()\n",
    "\n",
    "countvec_fit = countvec.fit_transform(data)\n",
    "\n",
    "print(countvec.get_feature_names_out())"
   ]
  },
  {
   "cell_type": "code",
   "execution_count": 18,
   "id": "35db3f90-9a56-414b-95c4-732343819300",
   "metadata": {},
   "outputs": [
    {
     "name": "stdout",
     "output_type": "stream",
     "text": [
      "   10  about  admirable  ahead  are  as  attacks  back  bait  beach  ...  \\\n",
      "0   1      1          0      0    1   0        1     0     0      1  ...   \n",
      "1   0      0          1      0    0   0        0     0     0      0  ...   \n",
      "2   0      0          0      0    0   1        0     0     0      0  ...   \n",
      "3   0      0          0      0    1   0        0     0     0      0  ...   \n",
      "4   0      0          0      1    0   0        0     0     0      0  ...   \n",
      "5   0      0          0      0    0   1        0     1     1      0  ...   \n",
      "\n",
      "   were  west  when  where  which  with  work  works  worms  you  \n",
      "0     0     0     0      1      0     0     0      0      0    0  \n",
      "1     0     0     0      0      1     1     0      0      0    0  \n",
      "2     1     0     0      0      0     0     0      0      0    0  \n",
      "3     0     1     1      0      0     0     0      1      0    1  \n",
      "4     0     0     0      0      0     0     1      0      0    0  \n",
      "5     0     0     0      0      0     0     0      0      1    0  \n",
      "\n",
      "[6 rows x 71 columns]\n"
     ]
    }
   ],
   "source": [
    "bag_of_words = pd.DataFrame(countvec_fit.toarray(), columns=countvec.get_feature_names_out())\n",
    "\n",
    "print(bag_of_words)"
   ]
  },
  {
   "cell_type": "markdown",
   "id": "727467f7-49ef-42ba-8557-d20325f92478",
   "metadata": {},
   "source": [
    "## Term Frequency – Inverse Document Frequency ( TF–IDF )"
   ]
  },
  {
   "cell_type": "markdown",
   "id": "fffd78ee-d12c-494f-a8d8-24f90f80c9ef",
   "metadata": {},
   "source": [
    "\n",
    "#### Step 1: Term Frequency (TF)\n",
    "\n",
    "$$\n",
    "TF(t,d) = \\frac{\\text{Number of times term } t \\text{ appears in document } d}{\\text{Total terms in document } d}\n",
    "$$\n",
    "\n",
    "Example: In `\"I love NLP I love AI\"`\n",
    "\n",
    "* TF(\"love\") = 2 / 6 = **0.33**\n",
    "\n",
    "---\n",
    "\n",
    "#### Step 2: Inverse Document Frequency (IDF)\n",
    "\n",
    "$$\n",
    "IDF(t) = \\log\\left(\\frac{\\text{Total number of documents}}{\\text{Number of documents containing term } t}\\right)\n",
    "$$\n",
    "\n",
    "So common words across all docs (like \"the\") get **low IDF**, while rare words get **high IDF**.\n",
    "\n",
    "---\n",
    "\n",
    "#### Step 3: TF–IDF\n",
    "\n",
    "$$\n",
    "TF\\text{-}IDF(t,d) = TF(t,d) \\times IDF(t)\n",
    "$$\n",
    "\n",
    "---"
   ]
  },
  {
   "cell_type": "code",
   "execution_count": 19,
   "id": "4ff611af-06e7-499f-8521-c9f5674eef2d",
   "metadata": {},
   "outputs": [],
   "source": [
    "import pandas as pd\n",
    "from sklearn.feature_extraction.text import TfidfVectorizer"
   ]
  },
  {
   "cell_type": "code",
   "execution_count": 20,
   "id": "d82dbe2b-d2b3-4be0-9f2e-23c31649b123",
   "metadata": {},
   "outputs": [],
   "source": [
    "data = ['Most shark attacks occur about 10 feet from the beach since that is where the people are',\n",
    "        'the efficiency with which he paired the socks in the drawer was quite admirable',\n",
    "        'carol drank the blood as if she were a vampire',\n",
    "        'giving directions that the mountains are to the west only works when you can see them',\n",
    "        'the sign said there was road work ahead so he decided to speed up',\n",
    "        'the gruff old man sat in the back of the bait shop grumbling to himself as he scooped out a handful of worms']"
   ]
  },
  {
   "cell_type": "code",
   "execution_count": 21,
   "id": "01814281-41d8-4a0d-9184-fbac442dee4f",
   "metadata": {},
   "outputs": [],
   "source": [
    "tfidfvec = TfidfVectorizer()\n",
    "\n",
    "tfidfvec_fit = tfidfvec.fit_transform(data)"
   ]
  },
  {
   "cell_type": "code",
   "execution_count": 22,
   "id": "7b2d56e3-8046-4d5a-8a3c-200031e983bd",
   "metadata": {},
   "outputs": [
    {
     "name": "stdout",
     "output_type": "stream",
     "text": [
      "         10     about  admirable     ahead       are        as   attacks  \\\n",
      "0  0.257061  0.257061   0.000000  0.000000  0.210794  0.000000  0.257061   \n",
      "1  0.000000  0.000000   0.293641  0.000000  0.000000  0.000000  0.000000   \n",
      "2  0.000000  0.000000   0.000000  0.000000  0.000000  0.292313  0.000000   \n",
      "3  0.000000  0.000000   0.000000  0.000000  0.222257  0.000000  0.000000   \n",
      "4  0.000000  0.000000   0.000000  0.290766  0.000000  0.000000  0.000000   \n",
      "5  0.000000  0.000000   0.000000  0.000000  0.000000  0.178615  0.000000   \n",
      "\n",
      "      back     bait     beach  ...      were     west     when     where  \\\n",
      "0  0.00000  0.00000  0.257061  ...  0.000000  0.00000  0.00000  0.257061   \n",
      "1  0.00000  0.00000  0.000000  ...  0.000000  0.00000  0.00000  0.000000   \n",
      "2  0.00000  0.00000  0.000000  ...  0.356474  0.00000  0.00000  0.000000   \n",
      "3  0.00000  0.00000  0.000000  ...  0.000000  0.27104  0.27104  0.000000   \n",
      "4  0.00000  0.00000  0.000000  ...  0.000000  0.00000  0.00000  0.000000   \n",
      "5  0.21782  0.21782  0.000000  ...  0.000000  0.00000  0.00000  0.000000   \n",
      "\n",
      "      which      with      work    works    worms      you  \n",
      "0  0.000000  0.000000  0.000000  0.00000  0.00000  0.00000  \n",
      "1  0.293641  0.293641  0.000000  0.00000  0.00000  0.00000  \n",
      "2  0.000000  0.000000  0.000000  0.00000  0.00000  0.00000  \n",
      "3  0.000000  0.000000  0.000000  0.27104  0.00000  0.27104  \n",
      "4  0.000000  0.000000  0.290766  0.00000  0.00000  0.00000  \n",
      "5  0.000000  0.000000  0.000000  0.00000  0.21782  0.00000  \n",
      "\n",
      "[6 rows x 71 columns]\n"
     ]
    }
   ],
   "source": [
    "tfidf_bag = pd.DataFrame(tfidfvec_fit.toarray(), columns = tfidfvec.get_feature_names_out())\n",
    "\n",
    "print(tfidf_bag)"
   ]
  }
 ],
 "metadata": {
  "kernelspec": {
   "display_name": "Python 3 (Latest)",
   "language": "python",
   "name": "python3"
  },
  "language_info": {
   "codemirror_mode": {
    "name": "ipython",
    "version": 3
   },
   "file_extension": ".py",
   "mimetype": "text/x-python",
   "name": "python",
   "nbconvert_exporter": "python",
   "pygments_lexer": "ipython3",
   "version": "3.12.6"
  }
 },
 "nbformat": 4,
 "nbformat_minor": 5
}
