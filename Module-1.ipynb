{
 "cells": [
  {
   "cell_type": "markdown",
   "id": "8cccb2c6-9105-4ff1-b131-d77e7f93c26b",
   "metadata": {},
   "source": [
    "# Introduction to NLP"
   ]
  },
  {
   "cell_type": "markdown",
   "id": "f484c6a3-e2f9-4a10-9886-02bb49cf6403",
   "metadata": {},
   "source": [
    "It’s a field of Artificial Intelligence (AI) that focuses on how computers can understand, process, and generate human language (text or speech)."
   ]
  },
  {
   "cell_type": "markdown",
   "id": "9b59b586-0359-4043-814a-221aec5db4db",
   "metadata": {
    "jp-MarkdownHeadingCollapsed": true
   },
   "source": [
    "## Lowercasing the data"
   ]
  },
  {
   "cell_type": "code",
   "execution_count": 1,
   "id": "1da1d64d-0152-4b13-b953-3de628e2fa8b",
   "metadata": {},
   "outputs": [
    {
     "name": "stdout",
     "output_type": "stream",
     "text": [
      "i am suraj and i live in india\n"
     ]
    }
   ],
   "source": [
    "sentence = \"I am Suraj and I live in India\"\n",
    "lowercase_sentence = sentence.lower()\n",
    "print(lowercase_sentence)"
   ]
  },
  {
   "cell_type": "code",
   "execution_count": 2,
   "id": "e7b8c04d-cca0-40f9-978f-ef12cef87bd8",
   "metadata": {},
   "outputs": [
    {
     "name": "stdout",
     "output_type": "stream",
     "text": [
      "['my name is suraj', 'i study in jss stu', 'formerly known as sjce']\n"
     ]
    }
   ],
   "source": [
    "sentence_list = [\"My name is Suraj\",\"I study in JSS STU\",\"formerly known as SJCE\"]\n",
    "lowercase_sentence_list = [x.lower() for x in sentence_list]\n",
    "print(lowercase_sentence_list)"
   ]
  },
  {
   "cell_type": "markdown",
   "id": "8f79bd37-65d2-4e16-9fcd-757829842b85",
   "metadata": {
    "jp-MarkdownHeadingCollapsed": true
   },
   "source": [
    "## Removing stop words"
   ]
  },
  {
   "cell_type": "code",
   "execution_count": 3,
   "id": "871e8752-f2e9-499a-8db8-5600d7509ed7",
   "metadata": {},
   "outputs": [
    {
     "name": "stdout",
     "output_type": "stream",
     "text": [
      "['a', 'about', 'above', 'after', 'again', 'against', 'ain', 'all', 'am', 'an', 'and', 'any', 'are', 'aren', \"aren't\", 'as', 'at', 'be', 'because', 'been', 'before', 'being', 'below', 'between', 'both', 'but', 'by', 'can', 'couldn', \"couldn't\", 'd', 'did', 'didn', \"didn't\", 'do', 'does', 'doesn', \"doesn't\", 'doing', 'don', \"don't\", 'down', 'during', 'each', 'few', 'for', 'from', 'further', 'had', 'hadn', \"hadn't\", 'has', 'hasn', \"hasn't\", 'have', 'haven', \"haven't\", 'having', 'he', \"he'd\", \"he'll\", 'her', 'here', 'hers', 'herself', \"he's\", 'him', 'himself', 'his', 'how', 'i', \"i'd\", 'if', \"i'll\", \"i'm\", 'in', 'into', 'is', 'isn', \"isn't\", 'it', \"it'd\", \"it'll\", \"it's\", 'its', 'itself', \"i've\", 'just', 'll', 'm', 'ma', 'me', 'mightn', \"mightn't\", 'more', 'most', 'mustn', \"mustn't\", 'my', 'myself', 'needn', \"needn't\", 'no', 'nor', 'not', 'now', 'o', 'of', 'off', 'on', 'once', 'only', 'or', 'other', 'our', 'ours', 'ourselves', 'out', 'over', 'own', 're', 's', 'same', 'shan', \"shan't\", 'she', \"she'd\", \"she'll\", \"she's\", 'should', 'shouldn', \"shouldn't\", \"should've\", 'so', 'some', 'such', 't', 'than', 'that', \"that'll\", 'the', 'their', 'theirs', 'them', 'themselves', 'then', 'there', 'these', 'they', \"they'd\", \"they'll\", \"they're\", \"they've\", 'this', 'those', 'through', 'to', 'too', 'under', 'until', 'up', 've', 'very', 'was', 'wasn', \"wasn't\", 'we', \"we'd\", \"we'll\", \"we're\", 'were', 'weren', \"weren't\", \"we've\", 'what', 'when', 'where', 'which', 'while', 'who', 'whom', 'why', 'will', 'with', 'won', \"won't\", 'wouldn', \"wouldn't\", 'y', 'you', \"you'd\", \"you'll\", 'your', \"you're\", 'yours', 'yourself', 'yourselves', \"you've\"]\n"
     ]
    },
    {
     "name": "stderr",
     "output_type": "stream",
     "text": [
      "[nltk_data] Downloading package stopwords to C:\\Users\\SURAJ S\n",
      "[nltk_data]     G\\AppData\\Roaming\\nltk_data...\n",
      "[nltk_data]   Package stopwords is already up-to-date!\n"
     ]
    }
   ],
   "source": [
    "import nltk\n",
    "nltk.download('stopwords')\n",
    "from nltk.corpus import stopwords\n",
    "\n",
    "en_stopwords =  stopwords.words('english')\n",
    "print(en_stopwords)"
   ]
  },
  {
   "cell_type": "code",
   "execution_count": 4,
   "id": "a13d8b3c-1a50-4639-8904-0caf9d33334b",
   "metadata": {},
   "outputs": [
    {
     "name": "stdout",
     "output_type": "stream",
     "text": [
      "The students waiting bus stop raining, want walk way school wet morning.\n"
     ]
    }
   ],
   "source": [
    "sentence = \"The students were waiting at the bus stop because it was raining, and they did not want to walk all the way to the school on a wet morning.\"\n",
    "sentence_no_stopwords = ' '.join([word for word in sentence.split() if word not in en_stopwords])\n",
    "print(sentence_no_stopwords)"
   ]
  },
  {
   "cell_type": "markdown",
   "id": "582908a6-6056-4ac2-8292-d4c18f21017f",
   "metadata": {
    "jp-MarkdownHeadingCollapsed": true
   },
   "source": [
    "## Regular expressions"
   ]
  },
  {
   "cell_type": "code",
   "execution_count": 5,
   "id": "a42278a8-072a-491d-ba60-722da622789f",
   "metadata": {},
   "outputs": [],
   "source": [
    "import re"
   ]
  },
  {
   "cell_type": "code",
   "execution_count": 6,
   "id": "ac395539-44ce-4c50-9c2c-a587386d9d57",
   "metadata": {},
   "outputs": [
    {
     "name": "stdout",
     "output_type": "stream",
     "text": [
      "C:\\desktop\\notes\n"
     ]
    }
   ],
   "source": [
    "my_folder = r\"C:\\desktop\\notes\" #raw \n",
    "print(my_folder)"
   ]
  },
  {
   "cell_type": "code",
   "execution_count": 7,
   "id": "6c2fd041-2715-45c4-82d2-c56eaad91f5e",
   "metadata": {},
   "outputs": [
    {
     "name": "stdout",
     "output_type": "stream",
     "text": [
      "<re.Match object; span=(31, 38), match='pattern'>\n",
      "None\n"
     ]
    }
   ],
   "source": [
    "# .search\n",
    "result_search = re.search(\"pattern\",r\"This sentence contain the word pattern\")\n",
    "print(result_search)\n",
    "\n",
    "result_search2 = re.search(\"pattern\",r\"This sentence does not contain\")\n",
    "print(result_search2)"
   ]
  },
  {
   "cell_type": "code",
   "execution_count": 8,
   "id": "e6583466-b53f-47ab-996e-33d53321abca",
   "metadata": {},
   "outputs": [
    {
     "name": "stdout",
     "output_type": "stream",
     "text": [
      "Suraj lives in mysuru\n"
     ]
    }
   ],
   "source": [
    "# .sub\n",
    "string = \"Surj lives in mysuru\"\n",
    "new_string = re.sub(\"Surj\",\"Suraj\", string)\n",
    "print(new_string)"
   ]
  },
  {
   "cell_type": "code",
   "execution_count": 9,
   "id": "7e2e3b3c-c80b-48f4-8a28-7be42ae5577b",
   "metadata": {},
   "outputs": [
    {
     "name": "stdout",
     "output_type": "stream",
     "text": [
      "['sarah was able to help me find the items i needed quickly', 'great service from sara she found me what i wanted']\n"
     ]
    }
   ],
   "source": [
    "customer_reviews = ['sam was a great help to me in the store', \n",
    "                    'the cashier was very rude to me, I think her name was eleanor', \n",
    "                    'amazing work from sadeen!', \n",
    "                    'sarah was able to help me find the items i needed quickly', \n",
    "                    'lucy is such a great addition to the team', \n",
    "                    'great service from sara she found me what i wanted'\n",
    "                   ]\n",
    "\n",
    "sarahs_reviews = []\n",
    "\n",
    "pattern_to_find = r\"sarah?\"\n",
    "\n",
    "for string in customer_reviews:\n",
    "    if re.search(pattern_to_find, string):\n",
    "        sarahs_reviews.append(string)\n",
    "\n",
    "print(sarahs_reviews)"
   ]
  },
  {
   "cell_type": "code",
   "execution_count": 10,
   "id": "4c2812bd-2dca-4586-a967-39f8af55bb1c",
   "metadata": {},
   "outputs": [
    {
     "name": "stdout",
     "output_type": "stream",
     "text": [
      "['amazing work from sadeen!']\n"
     ]
    }
   ],
   "source": [
    "a_reviews = []\n",
    "\n",
    "pattern_to_find = r\"^a\"\n",
    "\n",
    "for string in customer_reviews:\n",
    "    if re.search(pattern_to_find, string):\n",
    "        a_reviews.append(string)\n",
    "\n",
    "print(a_reviews)"
   ]
  },
  {
   "cell_type": "code",
   "execution_count": 11,
   "id": "2aff0435-6166-4241-a725-d73a33dfb2bc",
   "metadata": {},
   "outputs": [
    {
     "name": "stdout",
     "output_type": "stream",
     "text": [
      "['sarah was able to help me find the items i needed quickly']\n"
     ]
    }
   ],
   "source": [
    "y_reviews = []\n",
    "\n",
    "pattern_to_find = r\"y$\"\n",
    "\n",
    "for string in customer_reviews:\n",
    "    if re.search(pattern_to_find, string):\n",
    "        y_reviews.append(string)\n",
    "\n",
    "print(y_reviews)"
   ]
  },
  {
   "cell_type": "code",
   "execution_count": 12,
   "id": "e5525bc4-a843-4ffc-876f-fd82a29a2802",
   "metadata": {},
   "outputs": [
    {
     "name": "stdout",
     "output_type": "stream",
     "text": [
      "['sarah was able to help me find the items i needed quickly', 'great service from sara she found me what i wanted']\n"
     ]
    }
   ],
   "source": [
    "need_want_reviews = []\n",
    "\n",
    "pattern_to_find = r\"(need|want)ed\"\n",
    "\n",
    "for string in customer_reviews:\n",
    "    if re.search(pattern_to_find, string):\n",
    "        need_want_reviews.append(string)\n",
    "\n",
    "print(need_want_reviews)"
   ]
  },
  {
   "cell_type": "code",
   "execution_count": 13,
   "id": "ea5721ed-33d9-4eeb-8fc0-79e3a7f6f572",
   "metadata": {},
   "outputs": [
    {
     "name": "stdout",
     "output_type": "stream",
     "text": [
      "['the cashier was very rude to me, I think her name was eleanor', 'amazing work from sadeen!']\n"
     ]
    }
   ],
   "source": [
    "punct_reviews = []\n",
    "\n",
    "pattern_to_find = r\"[^\\w\\s]\" # ^ - not, \\w - word, \\s - space\n",
    "\n",
    "for string in customer_reviews:\n",
    "    if re.search(pattern_to_find, string):\n",
    "        punct_reviews.append(string)\n",
    "\n",
    "print(punct_reviews)"
   ]
  },
  {
   "cell_type": "code",
   "execution_count": 14,
   "id": "07fd3c5a-98ab-4957-b81a-6e35dd9cd729",
   "metadata": {},
   "outputs": [
    {
     "name": "stdout",
     "output_type": "stream",
     "text": [
      "['sam was a great help to me in the store', 'the cashier was very rude to me I think her name was eleanor', 'amazing work from sadeen', 'sarah was able to help me find the items i needed quickly', 'lucy is such a great addition to the team', 'great service from sara she found me what i wanted']\n"
     ]
    }
   ],
   "source": [
    "no_punct_reviews = []\n",
    "\n",
    "pattern_to_find = r\"[^\\w\\s]\" # ^ - not, \\w - word, \\s - space\n",
    "\n",
    "for string in customer_reviews:\n",
    "    no_punct_reviews.append(re.sub(pattern_to_find, \"\", string))\n",
    "\n",
    "print(no_punct_reviews)"
   ]
  },
  {
   "cell_type": "markdown",
   "id": "442fbb22-f901-4366-9774-06ae596326ab",
   "metadata": {
    "jp-MarkdownHeadingCollapsed": true
   },
   "source": [
    "## Tokenization"
   ]
  },
  {
   "cell_type": "code",
   "execution_count": 16,
   "id": "d6a53ebb-450e-405d-a551-da5c86f3b24c",
   "metadata": {},
   "outputs": [
    {
     "name": "stderr",
     "output_type": "stream",
     "text": [
      "[nltk_data] Downloading package punkt_tab to C:\\Users\\SURAJ S\n",
      "[nltk_data]     G\\AppData\\Roaming\\nltk_data...\n",
      "[nltk_data]   Package punkt_tab is already up-to-date!\n"
     ]
    }
   ],
   "source": [
    "import nltk\n",
    "nltk.download('punkt_tab')\n",
    "from nltk.tokenize import word_tokenize, sent_tokenize"
   ]
  },
  {
   "cell_type": "code",
   "execution_count": 20,
   "id": "f8c19979-6a80-4f95-a2d9-1d52c2e8862a",
   "metadata": {},
   "outputs": [
    {
     "data": {
      "text/plain": [
       "['My name is Suraj.', 'I am twenty years old.']"
      ]
     },
     "execution_count": 20,
     "metadata": {},
     "output_type": "execute_result"
    }
   ],
   "source": [
    "sentences = \"My name is Suraj. I am twenty years old.\"\n",
    "\n",
    "sent_tokenize(sentences) # sentence tokenization"
   ]
  },
  {
   "cell_type": "code",
   "execution_count": 24,
   "id": "f497b918-7552-4c0b-b136-628c0b7f7a99",
   "metadata": {},
   "outputs": [
    {
     "data": {
      "text/plain": [
       "['My', 'dogs', 'name', 'is', 'Sonu']"
      ]
     },
     "execution_count": 24,
     "metadata": {},
     "output_type": "execute_result"
    }
   ],
   "source": [
    "word_sentence = \"My dog's name is Sonu!\"\n",
    "\n",
    "word_tokenize(re.sub(r\"[^\\w\\s]\", \"\", word_sentence)) # word tokenization"
   ]
  },
  {
   "cell_type": "markdown",
   "id": "199201e0-dae5-4a1a-85c3-6697684b7a80",
   "metadata": {
    "jp-MarkdownHeadingCollapsed": true
   },
   "source": [
    "## Stemming"
   ]
  },
  {
   "cell_type": "code",
   "execution_count": 26,
   "id": "e4679df1-e633-4d4a-8d64-ccb916c9858f",
   "metadata": {},
   "outputs": [],
   "source": [
    "from nltk.stem import PorterStemmer\n",
    "ps = PorterStemmer()"
   ]
  },
  {
   "cell_type": "code",
   "execution_count": 29,
   "id": "b6b57499-8808-4921-9f20-b53225a10626",
   "metadata": {},
   "outputs": [
    {
     "name": "stdout",
     "output_type": "stream",
     "text": [
      "connecting  :  connect\n",
      "connected  :  connect\n",
      "connectivity  :  connect\n",
      "connect  :  connect\n",
      "connects  :  connect\n"
     ]
    }
   ],
   "source": [
    "connect_tokens = ['connecting', 'connected', 'connectivity', 'connect', 'connects']\n",
    "\n",
    "for t in connect_tokens:\n",
    "    print(t, \" : \", ps.stem(t))"
   ]
  },
  {
   "cell_type": "code",
   "execution_count": 30,
   "id": "3189e8a0-d2df-41b8-8d4d-44657a7628a3",
   "metadata": {},
   "outputs": [
    {
     "name": "stdout",
     "output_type": "stream",
     "text": [
      "learned  :  learn\n",
      "learning  :  learn\n",
      "learn  :  learn\n",
      "learns  :  learn\n",
      "learner  :  learner\n",
      "learners  :  learner\n"
     ]
    }
   ],
   "source": [
    "learn_tokens = ['learned', 'learning', 'learn', 'learns', 'learner', 'learners']\n",
    "\n",
    "for t in learn_tokens:\n",
    "    print(t, \" : \", ps.stem(t))"
   ]
  },
  {
   "cell_type": "code",
   "execution_count": 31,
   "id": "effff883-2d31-4a14-88c4-41e89760642b",
   "metadata": {},
   "outputs": [
    {
     "name": "stdout",
     "output_type": "stream",
     "text": [
      "likes  :  like\n",
      "better  :  better\n",
      "worse  :  wors\n"
     ]
    }
   ],
   "source": [
    "likes_tokens = ['likes', 'better', 'worse']\n",
    "\n",
    "for t in likes_tokens:\n",
    "    print(t, \" : \", ps.stem(t))"
   ]
  },
  {
   "cell_type": "markdown",
   "id": "293aa1c3-d874-4371-8dff-d22a111e7c43",
   "metadata": {
    "jp-MarkdownHeadingCollapsed": true
   },
   "source": [
    "## Lemmatization"
   ]
  },
  {
   "cell_type": "code",
   "execution_count": 33,
   "id": "a425de93-9b53-4816-9c3f-2942244e32ba",
   "metadata": {},
   "outputs": [
    {
     "name": "stderr",
     "output_type": "stream",
     "text": [
      "[nltk_data] Downloading package wordnet to C:\\Users\\SURAJ S\n",
      "[nltk_data]     G\\AppData\\Roaming\\nltk_data...\n",
      "[nltk_data]   Package wordnet is already up-to-date!\n"
     ]
    }
   ],
   "source": [
    "nltk.download('wordnet')\n",
    "from nltk.stem import WordNetLemmatizer\n",
    "\n",
    "lemmatizer = WordNetLemmatizer()"
   ]
  },
  {
   "cell_type": "code",
   "execution_count": 35,
   "id": "2731a1d3-4f3b-4398-9edb-cbdcd4addad9",
   "metadata": {},
   "outputs": [
    {
     "name": "stdout",
     "output_type": "stream",
     "text": [
      "connecting  :  connecting\n",
      "connected  :  connected\n",
      "connectivity  :  connectivity\n",
      "connect  :  connect\n",
      "connects  :  connects\n"
     ]
    }
   ],
   "source": [
    "for t in connect_tokens:\n",
    "    print(t, \" : \", lemmatizer.lemmatize(t))"
   ]
  },
  {
   "cell_type": "code",
   "execution_count": 36,
   "id": "606b35c1-0087-48c7-9e0b-5f34b8d7078a",
   "metadata": {},
   "outputs": [
    {
     "name": "stdout",
     "output_type": "stream",
     "text": [
      "learned  :  learned\n",
      "learning  :  learning\n",
      "learn  :  learn\n",
      "learns  :  learns\n",
      "learner  :  learner\n",
      "learners  :  learner\n"
     ]
    }
   ],
   "source": [
    "for t in learn_tokens:\n",
    "    print(t, \" : \", lemmatizer.lemmatize(t))"
   ]
  },
  {
   "cell_type": "code",
   "execution_count": 37,
   "id": "96d02d80-6e07-47af-b057-1d6f27924257",
   "metadata": {},
   "outputs": [
    {
     "name": "stdout",
     "output_type": "stream",
     "text": [
      "likes  :  like\n",
      "better  :  better\n",
      "worse  :  worse\n"
     ]
    }
   ],
   "source": [
    "for t in likes_tokens:\n",
    "    print(t, \" : \", lemmatizer.lemmatize(t))"
   ]
  },
  {
   "cell_type": "markdown",
   "id": "8805dac9-d769-4f3a-93be-4a8be495c19b",
   "metadata": {
    "jp-MarkdownHeadingCollapsed": true
   },
   "source": [
    "## N-grams"
   ]
  },
  {
   "cell_type": "code",
   "execution_count": 38,
   "id": "04b0da3c-3774-488a-85dd-37ba56ae93bb",
   "metadata": {},
   "outputs": [],
   "source": [
    "import nltk\n",
    "import pandas as pd\n",
    "import matplotlib.pyplot as plt"
   ]
  },
  {
   "cell_type": "code",
   "execution_count": 39,
   "id": "3c3b08df-077b-45af-a29b-6935b18ccbee",
   "metadata": {},
   "outputs": [
    {
     "name": "stdout",
     "output_type": "stream",
     "text": [
      "['the', 'rise', 'of', 'artificial', 'intelligence', 'has', 'led', 'to', 'significant', 'advancements', 'in', 'natural', 'language', 'processing', 'computer', 'vision', 'and', 'other', 'fields', 'machine', 'learning', 'algorithms', 'are', 'becoming', 'more', 'sophisticated', 'enabling', 'computers', 'to', 'perform', 'complex', 'tasks', 'that', 'were', 'once', 'thought', 'to', 'be', 'the', 'exclusive', 'domain', 'of', 'humans', 'with', 'the', 'advent', 'of', 'deep', 'learning', 'neural', 'networks', 'have', 'become', 'even', 'more', 'powerful', 'capable', 'of', 'processing', 'vast', 'amounts', 'of', 'data', 'and', 'learning', 'from', 'it', 'in', 'ways', 'that', 'were', 'not', 'possible', 'before', 'as', 'a', 'result', 'ai', 'is', 'increasingly', 'being', 'used', 'in', 'a', 'wide', 'range', 'of', 'industries', 'from', 'healthcare', 'to', 'finance', 'to', 'transportation', 'and', 'its', 'impact', 'is', 'only', 'set', 'to', 'grow', 'in', 'the', 'years', 'to', 'come']\n"
     ]
    }
   ],
   "source": [
    "tokens = ['the', 'rise', 'of', 'artificial', 'intelligence', 'has', 'led', 'to', 'significant', 'advancements', 'in', 'natural', 'language', 'processing', 'computer', 'vision', 'and', 'other', 'fields', 'machine', 'learning', 'algorithms', 'are', 'becoming', 'more', 'sophisticated', 'enabling', 'computers', 'to', 'perform', 'complex', 'tasks', 'that', 'were', 'once', 'thought', 'to', 'be', 'the', 'exclusive', 'domain', 'of', 'humans', 'with', 'the', 'advent', 'of', 'deep', 'learning', 'neural', 'networks', 'have', 'become', 'even', 'more', 'powerful', 'capable', 'of', 'processing', 'vast', 'amounts', 'of', 'data', 'and', 'learning', 'from', 'it', 'in', 'ways', 'that', 'were', 'not', 'possible', 'before', 'as', 'a', 'result', 'ai', 'is', 'increasingly', 'being', 'used', 'in', 'a', 'wide', 'range', 'of', 'industries', 'from', 'healthcare', 'to', 'finance', 'to', 'transportation', 'and', 'its', 'impact', 'is', 'only', 'set', 'to', 'grow', 'in', 'the', 'years', 'to', 'come']\n",
    "print(tokens)"
   ]
  },
  {
   "cell_type": "code",
   "execution_count": 59,
   "id": "36d98e1a-a28c-43a2-b947-90253a6eeb83",
   "metadata": {},
   "outputs": [
    {
     "name": "stdout",
     "output_type": "stream",
     "text": [
      "(to,)            7\n",
      "(of,)            6\n",
      "(the,)           4\n",
      "(in,)            4\n",
      "(and,)           3\n",
      "(learning,)      3\n",
      "(processing,)    2\n",
      "(from,)          2\n",
      "(is,)            2\n",
      "(a,)             2\n",
      "Name: count, dtype: int64\n"
     ]
    }
   ],
   "source": [
    "# unigrams: n=1\n",
    "unigrams = pd.Series(nltk.ngrams(tokens, 1)).value_counts()\n",
    "print(unigrams[:10])\n",
    "\n",
    "# Explaination:\n",
    "# tokens = [\"the\", \"cat\", \"sat\", \"on\", \"the\", \"mat\"]\n",
    "\n",
    "# list(nltk.ngrams(tokens, 1))  //This generates unigrams (n=1 = single words).\n",
    "# [('the',), ('cat',), ('sat',), ('on',), ('the',), ('mat',)]\n",
    "\n",
    "\n",
    "# pd.Series(list(nltk.ngrams(tokens, 1))) //Converts the list of tuples into a Pandas Series (like a column).\n",
    "# 0    (the,)\n",
    "# 1    (cat,)\n",
    "# 2    (sat,)\n",
    "# 3    (on,)\n",
    "# 4    (the,)\n",
    "# 5    (mat,)\n",
    "# dtype: object\n",
    "\n",
    "\n",
    "# pd.Series(list(nltk.ngrams(tokens, 1))).value_counts() //Counts how many times each unique tuple appears.\n",
    "# (the,)    2\n",
    "# (cat,)    1\n",
    "# (sat,)    1\n",
    "# (on,)     1\n",
    "# (mat,)    1\n",
    "# dtype: int64"
   ]
  },
  {
   "cell_type": "code",
   "execution_count": 69,
   "id": "f72cd687-449e-4deb-b433-5b9736c0f941",
   "metadata": {},
   "outputs": [
    {
     "data": {
      "image/png": "[encoded data removed]",
      "text/plain": [
       "<Figure size 640x480 with 1 Axes>"
      ]
     },
     "metadata": {},
     "output_type": "display_data"
    }
   ],
   "source": [
    "unigrams[:10].sort_values().plot.barh(color='orange')\n",
    "plt.title(\"10 most frequently occuring unigrams\")\n",
    "plt.show()"
   ]
  },
  {
   "cell_type": "code",
   "execution_count": 71,
   "id": "d8421909-d57c-4305-9bb2-f60996fdbe2e",
   "metadata": {},
   "outputs": [
    {
     "name": "stdout",
     "output_type": "stream",
     "text": [
      "(that, were)                   2\n",
      "(rise, of)                     1\n",
      "(of, artificial)               1\n",
      "(artificial, intelligence)     1\n",
      "(intelligence, has)            1\n",
      "(has, led)                     1\n",
      "(led, to)                      1\n",
      "(to, significant)              1\n",
      "(the, rise)                    1\n",
      "(significant, advancements)    1\n",
      "Name: count, dtype: int64\n"
     ]
    }
   ],
   "source": [
    "bigrams = pd.Series(nltk.ngrams(tokens, 2)).value_counts()\n",
    "print(bigrams[:10])"
   ]
  },
  {
   "cell_type": "code",
   "execution_count": 73,
   "id": "9529a9f9-e5cf-4d07-aecb-958ba3710e66",
   "metadata": {},
   "outputs": [
    {
     "name": "stdout",
     "output_type": "stream",
     "text": [
      "(the, rise, of)                    1\n",
      "(rise, of, artificial)             1\n",
      "(of, artificial, intelligence)     1\n",
      "(artificial, intelligence, has)    1\n",
      "(intelligence, has, led)           1\n",
      "(has, led, to)                     1\n",
      "(led, to, significant)             1\n",
      "(to, significant, advancements)    1\n",
      "(significant, advancements, in)    1\n",
      "(advancements, in, natural)        1\n",
      "Name: count, dtype: int64\n"
     ]
    }
   ],
   "source": [
    "trigrams = pd.Series(nltk.ngrams(tokens, 3)).value_counts()\n",
    "print(trigrams[:10])"
   ]
  },
  {
   "cell_type": "markdown",
   "id": "57359f6b-492e-4015-8714-8b701e5f57ee",
   "metadata": {},
   "source": [
    "## Practical task"
   ]
  },
  {
   "cell_type": "code",
   "execution_count": 51,
   "id": "1944bfdd-3e96-438a-a02a-a731dae5ec11",
   "metadata": {},
   "outputs": [],
   "source": [
    "import nltk\n",
    "from nltk.tokenize import word_tokenize \n",
    "from nltk.stem import PorterStemmer, WordNetLemmatizer \n",
    "from nltk.corpus import stopwords \n",
    "import re\n",
    "import pandas as pd\n",
    "import matplotlib.pyplot as plt"
   ]
  },
  {
   "cell_type": "code",
   "execution_count": 4,
   "id": "2f1a820a-8a6c-42ad-9e01-fb9428a0d5e2",
   "metadata": {},
   "outputs": [
    {
     "name": "stdout",
     "output_type": "stream",
     "text": [
      "<class 'pandas.core.frame.DataFrame'>\n",
      "RangeIndex: 109 entries, 0 to 108\n",
      "Data columns (total 2 columns):\n",
      " #   Column  Non-Null Count  Dtype \n",
      "---  ------  --------------  ----- \n",
      " 0   Review  109 non-null    object\n",
      " 1   Rating  109 non-null    int64 \n",
      "dtypes: int64(1), object(1)\n",
      "memory usage: 1.8+ KB\n"
     ]
    },
    {
     "data": {
      "text/html": [
       "<div>\n",
       "<style scoped>\n",
       "    .dataframe tbody tr th:only-of-type {\n",
       "        vertical-align: middle;\n",
       "    }\n",
       "\n",
       "    .dataframe tbody tr th {\n",
       "        vertical-align: top;\n",
       "    }\n",
       "\n",
       "    .dataframe thead th {\n",
       "        text-align: right;\n",
       "    }\n",
       "</style>\n",
       "<table border=\"1\" class=\"dataframe\">\n",
       "  <thead>\n",
       "    <tr style=\"text-align: right;\">\n",
       "      <th></th>\n",
       "      <th>Review</th>\n",
       "      <th>Rating</th>\n",
       "    </tr>\n",
       "  </thead>\n",
       "  <tbody>\n",
       "    <tr>\n",
       "      <th>0</th>\n",
       "      <td>nice hotel expensive parking got good deal sta...</td>\n",
       "      <td>4</td>\n",
       "    </tr>\n",
       "    <tr>\n",
       "      <th>1</th>\n",
       "      <td>ok nothing special charge diamond member hilto...</td>\n",
       "      <td>2</td>\n",
       "    </tr>\n",
       "    <tr>\n",
       "      <th>2</th>\n",
       "      <td>nice rooms not 4* experience hotel monaco seat...</td>\n",
       "      <td>3</td>\n",
       "    </tr>\n",
       "    <tr>\n",
       "      <th>3</th>\n",
       "      <td>unique, great stay, wonderful time hotel monac...</td>\n",
       "      <td>5</td>\n",
       "    </tr>\n",
       "    <tr>\n",
       "      <th>4</th>\n",
       "      <td>great stay great stay, went seahawk game aweso...</td>\n",
       "      <td>5</td>\n",
       "    </tr>\n",
       "  </tbody>\n",
       "</table>\n",
       "</div>"
      ],
      "text/plain": [
       "                                              Review  Rating\n",
       "0  nice hotel expensive parking got good deal sta...       4\n",
       "1  ok nothing special charge diamond member hilto...       2\n",
       "2  nice rooms not 4* experience hotel monaco seat...       3\n",
       "3  unique, great stay, wonderful time hotel monac...       5\n",
       "4  great stay great stay, went seahawk game aweso...       5"
      ]
     },
     "execution_count": 4,
     "metadata": {},
     "output_type": "execute_result"
    }
   ],
   "source": [
    "data = pd.read_csv(r\"D:\\AI-ML\\NLP\\CSV files\\tripadvisor_hotel_reviews.csv\")\n",
    "data.info()\n",
    "data.head()"
   ]
  },
  {
   "cell_type": "code",
   "execution_count": 6,
   "id": "87ccf22d-669e-479c-9da5-3ff290898211",
   "metadata": {},
   "outputs": [
    {
     "data": {
      "text/plain": [
       "'nice hotel expensive parking got good deal stay hotel anniversary, arrived late evening took advice previous reviews did valet parking, check quick easy, little disappointed non-existent view room room clean nice size, bed comfortable woke stiff neck high pillows, not soundproof like heard music room night morning loud bangs doors opening closing hear people talking hallway, maybe just noisy neighbors, aveda bath products nice, did not goldfish stay nice touch taken advantage staying longer, location great walking distance shopping, overall nice experience having pay 40 parking night,  '"
      ]
     },
     "execution_count": 6,
     "metadata": {},
     "output_type": "execute_result"
    }
   ],
   "source": [
    "data['Review'][0]"
   ]
  },
  {
   "cell_type": "code",
   "execution_count": 10,
   "id": "e2fbb0d0-33df-41bf-810e-bb07fc15dce4",
   "metadata": {},
   "outputs": [
    {
     "data": {
      "text/html": [
       "<div>\n",
       "<style scoped>\n",
       "    .dataframe tbody tr th:only-of-type {\n",
       "        vertical-align: middle;\n",
       "    }\n",
       "\n",
       "    .dataframe tbody tr th {\n",
       "        vertical-align: top;\n",
       "    }\n",
       "\n",
       "    .dataframe thead th {\n",
       "        text-align: right;\n",
       "    }\n",
       "</style>\n",
       "<table border=\"1\" class=\"dataframe\">\n",
       "  <thead>\n",
       "    <tr style=\"text-align: right;\">\n",
       "      <th></th>\n",
       "      <th>Review</th>\n",
       "      <th>Rating</th>\n",
       "      <th>Review_lowercase</th>\n",
       "    </tr>\n",
       "  </thead>\n",
       "  <tbody>\n",
       "    <tr>\n",
       "      <th>0</th>\n",
       "      <td>nice hotel expensive parking got good deal sta...</td>\n",
       "      <td>4</td>\n",
       "      <td>nice hotel expensive parking got good deal sta...</td>\n",
       "    </tr>\n",
       "    <tr>\n",
       "      <th>1</th>\n",
       "      <td>ok nothing special charge diamond member hilto...</td>\n",
       "      <td>2</td>\n",
       "      <td>ok nothing special charge diamond member hilto...</td>\n",
       "    </tr>\n",
       "    <tr>\n",
       "      <th>2</th>\n",
       "      <td>nice rooms not 4* experience hotel monaco seat...</td>\n",
       "      <td>3</td>\n",
       "      <td>nice rooms not 4* experience hotel monaco seat...</td>\n",
       "    </tr>\n",
       "    <tr>\n",
       "      <th>3</th>\n",
       "      <td>unique, great stay, wonderful time hotel monac...</td>\n",
       "      <td>5</td>\n",
       "      <td>unique, great stay, wonderful time hotel monac...</td>\n",
       "    </tr>\n",
       "    <tr>\n",
       "      <th>4</th>\n",
       "      <td>great stay great stay, went seahawk game aweso...</td>\n",
       "      <td>5</td>\n",
       "      <td>great stay great stay, went seahawk game aweso...</td>\n",
       "    </tr>\n",
       "  </tbody>\n",
       "</table>\n",
       "</div>"
      ],
      "text/plain": [
       "                                              Review  Rating  \\\n",
       "0  nice hotel expensive parking got good deal sta...       4   \n",
       "1  ok nothing special charge diamond member hilto...       2   \n",
       "2  nice rooms not 4* experience hotel monaco seat...       3   \n",
       "3  unique, great stay, wonderful time hotel monac...       5   \n",
       "4  great stay great stay, went seahawk game aweso...       5   \n",
       "\n",
       "                                    Review_lowercase  \n",
       "0  nice hotel expensive parking got good deal sta...  \n",
       "1  ok nothing special charge diamond member hilto...  \n",
       "2  nice rooms not 4* experience hotel monaco seat...  \n",
       "3  unique, great stay, wonderful time hotel monac...  \n",
       "4  great stay great stay, went seahawk game aweso...  "
      ]
     },
     "execution_count": 10,
     "metadata": {},
     "output_type": "execute_result"
    }
   ],
   "source": [
    "# Lower casing\n",
    "\n",
    "data['Review_lowercase'] = data['Review'].str.lower() \n",
    "data.head()\n",
    "# In pandas, if a column has text (string) values, you can’t directly use Python’s normal string methods (like .lower() or .replace()) on the whole column."
   ]
  },
  {
   "cell_type": "code",
   "execution_count": 22,
   "id": "797ba681-abb9-408f-a653-d5733bd3df8b",
   "metadata": {},
   "outputs": [
    {
     "name": "stdout",
     "output_type": "stream",
     "text": [
      "1665\n",
      "1689\n"
     ]
    }
   ],
   "source": [
    "# Removing Stopwords\n",
    "\n",
    "en_stopwords = stopwords.words('english')\n",
    "en_stopwords.remove('not')\n",
    "\n",
    "data['Review_no_stopwords'] = data['Review'].apply(lambda x: ' '.join([word for word in x.split() if word not in en_stopwords]))\n",
    "print(len(data['Review_no_stopwords'][1]))\n",
    "print(len(data['Review'][1]))"
   ]
  },
  {
   "cell_type": "code",
   "execution_count": 31,
   "id": "5f01ecd4-0f99-4b8b-ada8-879fb35b8b77",
   "metadata": {},
   "outputs": [
    {
     "data": {
      "text/plain": [
       "'nice rooms not 4 experience hotel monaco seattle good hotel nt 4 levelpositives large bathroom mediterranean suite comfortable bed pillowsattentive housekeeping staffnegatives ac unit malfunctioned stay desk disorganized missed 3 separate wakeup calls concierge busy hard touch nt provide guidance special requeststv hard use ipod sound dock suite non functioning decided book mediterranean suite 3 night weekend stay 1st choice rest party filled comparison w spent 45 night larger square footage room great soaking tub whirlpool jets nice showerbefore stay hotel arrange car service price 53 tip reasonable driver waiting arrivalcheckin easy downside room picked 2 person jacuzi tub bath accessories salts bubble bath nt stay night got 121a checked voucher bottle champagne nice gesture fish waiting room impression room huge open space felt room big tv far away bed chore change channel ipod dock broken disappointingin morning way asked desk check thermostat said 65f 74 2 degrees warm try cover face night bright blue light kept got room night no 1st drop desk called maintainence came look thermostat told play settings happy digital box wo nt work asked wakeup 10am morning nt happen called later 6pm nap wakeup forgot 10am wakeup morning yep forgottenthe bathroom facilities great room surprised room sold whirlpool bath tub nt bath amenities great relax water jets going'"
      ]
     },
     "execution_count": 31,
     "metadata": {},
     "output_type": "execute_result"
    }
   ],
   "source": [
    "# Remove Punctuations\n",
    "\n",
    "data['Review_no_stopwords_no_punt'] = data.apply(lambda x: re.sub(r\"[*]\", \"star\", x['Review_no_stopwords']), axis=1)\n",
    "\n",
    "data['Review_no_stopwords_no_punt'] = data.apply(lambda x: re.sub(r\"[^\\w\\s]\", \"\", x['Review_no_stopwords']), axis=1)\n",
    "\n",
    "data['Review_no_stopwords_no_punt'][2]"
   ]
  },
  {
   "cell_type": "code",
   "execution_count": 35,
   "id": "596ee982-bfee-4e21-9f09-4c0baae8cbe7",
   "metadata": {},
   "outputs": [
    {
     "data": {
      "text/plain": [
       "0      [nice, hotel, expensive, parking, got, good, d...\n",
       "1      [ok, nothing, special, charge, diamond, member...\n",
       "2      [nice, rooms, not, 4, experience, hotel, monac...\n",
       "3      [unique, great, stay, wonderful, time, hotel, ...\n",
       "4      [great, stay, great, stay, went, seahawk, game...\n",
       "                             ...                        \n",
       "104    [fairmont, hotel, singapore, splendid, stayed,...\n",
       "105    [great, hotel, stayed, hotel, night, route, pe...\n",
       "106    [great, hotel, centre, stayed, 5, nights, room...\n",
       "107    [great, location, great, value, great, hotel, ...\n",
       "108    [lovely, hotel, great, location, stayed, vacat...\n",
       "Name: Tokenized, Length: 109, dtype: object"
      ]
     },
     "execution_count": 35,
     "metadata": {},
     "output_type": "execute_result"
    }
   ],
   "source": [
    "# Tokenization\n",
    "\n",
    "data['Tokenized'] = data.apply(lambda x: word_tokenize(x['Review_no_stopwords_no_punt']), axis=1)\n",
    "data['Tokenized']"
   ]
  },
  {
   "cell_type": "code",
   "execution_count": 38,
   "id": "8805247b-c7db-4652-bfdd-d9eec12083ed",
   "metadata": {},
   "outputs": [
    {
     "data": {
      "text/plain": [
       "0      [nice, hotel, expens, park, got, good, deal, s...\n",
       "1      [ok, noth, special, charg, diamond, member, hi...\n",
       "2      [nice, room, not, 4, experi, hotel, monaco, se...\n",
       "3      [uniqu, great, stay, wonder, time, hotel, mona...\n",
       "4      [great, stay, great, stay, went, seahawk, game...\n",
       "                             ...                        \n",
       "104    [fairmont, hotel, singapor, splendid, stay, fa...\n",
       "105    [great, hotel, stay, hotel, night, rout, perth...\n",
       "106    [great, hotel, centr, stay, 5, night, room, ov...\n",
       "107    [great, locat, great, valu, great, hotel, husb...\n",
       "108    [love, hotel, great, locat, stay, vacat, tour,...\n",
       "Name: Stemmed, Length: 109, dtype: object"
      ]
     },
     "execution_count": 38,
     "metadata": {},
     "output_type": "execute_result"
    }
   ],
   "source": [
    "# Stemming\n",
    "\n",
    "ps = PorterStemmer()\n",
    "data['Stemmed'] = data['Tokenized'].apply(lambda tokens: [ps.stem(token) for token in tokens])\n",
    "data['Stemmed']"
   ]
  },
  {
   "cell_type": "code",
   "execution_count": 41,
   "id": "5e18af9e-91fb-4b1d-9ffe-162e5d779e2b",
   "metadata": {},
   "outputs": [
    {
     "data": {
      "text/plain": [
       "0      [nice, hotel, expensive, parking, got, good, d...\n",
       "1      [ok, nothing, special, charge, diamond, member...\n",
       "2      [nice, room, not, 4, experience, hotel, monaco...\n",
       "3      [unique, great, stay, wonderful, time, hotel, ...\n",
       "4      [great, stay, great, stay, went, seahawk, game...\n",
       "                             ...                        \n",
       "104    [fairmont, hotel, singapore, splendid, stayed,...\n",
       "105    [great, hotel, stayed, hotel, night, route, pe...\n",
       "106    [great, hotel, centre, stayed, 5, night, room,...\n",
       "107    [great, location, great, value, great, hotel, ...\n",
       "108    [lovely, hotel, great, location, stayed, vacat...\n",
       "Name: Lemmatized, Length: 109, dtype: object"
      ]
     },
     "execution_count": 41,
     "metadata": {},
     "output_type": "execute_result"
    }
   ],
   "source": [
    "# Lemmatization\n",
    "\n",
    "lemmatizer = WordNetLemmatizer()\n",
    "data['Lemmatized'] = data['Tokenized'].apply(lambda tokens: [lemmatizer.lemmatize(token) for token in tokens])\n",
    "data['Lemmatized']"
   ]
  },
  {
   "cell_type": "code",
   "execution_count": 45,
   "id": "03bfd428-e589-4e4a-82a8-1962de7612f1",
   "metadata": {},
   "outputs": [],
   "source": [
    "tokens_clean = sum(data['Lemmatized'], [])\n",
    "\n",
    "# [['this','is','good'], ['movie','was','amazing'], ['i','like','it']]\n",
    "#                         ||\n",
    "# ['this','is','good','movie','was','amazing','i','like','it']\n"
   ]
  },
  {
   "cell_type": "code",
   "execution_count": 55,
   "id": "67b1a6af-5aca-49e0-9ba5-4849cf94bceb",
   "metadata": {},
   "outputs": [
    {
     "name": "stdout",
     "output_type": "stream",
     "text": [
      "(hotel,)          292\n",
      "(room,)           275\n",
      "(great,)          126\n",
      "(not,)            122\n",
      "(stay,)            95\n",
      "                 ... \n",
      "(electronic,)       1\n",
      "(blind,)            1\n",
      "(breakfasted,)      1\n",
      "(stocked,)          1\n",
      "(breakast,)         1\n",
      "Name: count, Length: 2588, dtype: int64\n"
     ]
    },
    {
     "data": {
      "image/png": "[encoded data removed]",
      "text/plain": [
       "<Figure size 640x480 with 1 Axes>"
      ]
     },
     "metadata": {},
     "output_type": "display_data"
    }
   ],
   "source": [
    "unigrams = pd.Series(nltk.ngrams(tokens_clean, 1)).value_counts()\n",
    "print(unigrams)\n",
    "unigrams[:10].sort_values().plot.barh(color='red')\n",
    "plt.title(\"Top ten frequently repeated words\")\n",
    "plt.show()"
   ]
  }
 ],
 "metadata": {
  "kernelspec": {
   "display_name": "Python 3 (Latest)",
   "language": "python",
   "name": "python3"
  },
  "language_info": {
   "codemirror_mode": {
    "name": "ipython",
    "version": 3
   },
   "file_extension": ".py",
   "mimetype": "text/x-python",
   "name": "python",
   "nbconvert_exporter": "python",
   "pygments_lexer": "ipython3",
   "version": "3.12.6"
  }
 },
 "nbformat": 4,
 "nbformat_minor": 5
}
